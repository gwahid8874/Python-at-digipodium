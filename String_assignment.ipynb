{
 "cells": [
  {
   "cell_type": "markdown",
   "metadata": {},
   "source": [
    "STRINGS ASSIGNMENT"
   ]
  },
  {
   "cell_type": "code",
   "execution_count": 335,
   "metadata": {},
   "outputs": [
    {
     "name": "stdout",
     "output_type": "stream",
     "text": [
      "This is a string\n"
     ]
    }
   ],
   "source": [
    "#Question 1: Create a string and print it.\n",
    "\n",
    "string = 'This is a string'\n",
    "print(string)"
   ]
  },
  {
   "cell_type": "code",
   "execution_count": 336,
   "metadata": {},
   "outputs": [
    {
     "name": "stdout",
     "output_type": "stream",
     "text": [
      "13\n"
     ]
    }
   ],
   "source": [
    "#Question 2: Take a string input and print it's length.\n",
    "\n",
    "string = input('Enter something')\n",
    "print(len(string))"
   ]
  },
  {
   "cell_type": "code",
   "execution_count": 337,
   "metadata": {},
   "outputs": [
    {
     "name": "stdout",
     "output_type": "stream",
     "text": [
      "great\n"
     ]
    }
   ],
   "source": [
    "#Question 3: Print the last word of the string 'Python is great' using slices.\n",
    "\n",
    "string = 'Python is great'\n",
    "slice = string[-5:len(string)]\n",
    "print(slice)"
   ]
  },
  {
   "cell_type": "code",
   "execution_count": 338,
   "metadata": {},
   "outputs": [
    {
     "name": "stdout",
     "output_type": "stream",
     "text": [
      "Python\n",
      "is\n",
      "everywhere\n"
     ]
    }
   ],
   "source": [
    "#Question 4: Print the each word in different line of string 'Python is everywhere'.\n",
    "\n",
    "string = \"Python is everywhere\"\n",
    "s = string.split()\n",
    "w = len(s)\n",
    "for i in range(w):\n",
    "    print(s[i])"
   ]
  },
  {
   "cell_type": "code",
   "execution_count": 339,
   "metadata": {},
   "outputs": [
    {
     "name": "stdout",
     "output_type": "stream",
     "text": [
      "!dlroW olleH\n"
     ]
    }
   ],
   "source": [
    "#Question 5: Print the string 'Hello World!' in reverse.\n",
    "\n",
    "string = 'Hello World!'\n",
    "str = string[::-1]\n",
    "print(str)"
   ]
  },
  {
   "cell_type": "code",
   "execution_count": 340,
   "metadata": {},
   "outputs": [
    {
     "data": {
      "text/plain": [
       "'HOW ARE YOU?'"
      ]
     },
     "execution_count": 340,
     "metadata": {},
     "output_type": "execute_result"
    }
   ],
   "source": [
    "#Question 6: Convert the string 'How are you?' in uppercase.\n",
    "\n",
    "string = 'How are you?'\n",
    "string.upper()"
   ]
  },
  {
   "cell_type": "code",
   "execution_count": 341,
   "metadata": {},
   "outputs": [
    {
     "data": {
      "text/plain": [
       "'how is it going?'"
      ]
     },
     "execution_count": 341,
     "metadata": {},
     "output_type": "execute_result"
    }
   ],
   "source": [
    "#Question 7: Convert the string 'How Is It Going?' in lowercase.\n",
    "\n",
    "string = 'How Is It Going?'\n",
    "string.lower()"
   ]
  },
  {
   "cell_type": "code",
   "execution_count": 342,
   "metadata": {},
   "outputs": [
    {
     "name": "stdout",
     "output_type": "stream",
     "text": [
      "Python is easy to learn\n"
     ]
    }
   ],
   "source": [
    "#Question 8: Join the following list by spaces( ) and print the result.\n",
    "#words = ['Python', 'is', 'easy', 'to', 'learn']\n",
    "\n",
    "words = ['Python', 'is', 'easy', 'to', 'learn']\n",
    "s = ' '.join(words)\n",
    "print(s)"
   ]
  },
  {
   "cell_type": "code",
   "execution_count": 343,
   "metadata": {},
   "outputs": [
    {
     "name": "stdout",
     "output_type": "stream",
     "text": [
      "This is a line\n",
      "This is a line\n",
      "This is a line\n"
     ]
    }
   ],
   "source": [
    "#Question 9: Print a multiline string using a single 'print'.\n",
    "\n",
    "line = 'This is a line'\n",
    "for i in range(3):\n",
    "    print(line)"
   ]
  },
  {
   "cell_type": "code",
   "execution_count": 344,
   "metadata": {},
   "outputs": [
    {
     "name": "stdout",
     "output_type": "stream",
     "text": [
      "to newline \n",
      " is used\n"
     ]
    }
   ],
   "source": [
    "#Question 10: Print this string to move \"to newline '\\n' is used\". (results should look exactly like the provided string)\n",
    "\n",
    "str = 'to newline \\n is used'\n",
    "print(str)"
   ]
  },
  {
   "cell_type": "code",
   "execution_count": 361,
   "metadata": {},
   "outputs": [
    {
     "name": "stdout",
     "output_type": "stream",
     "text": [
      "the variable is 15\n"
     ]
    }
   ],
   "source": [
    "#Question 11: Print a variable with some text using a single print function, output should look like following.\n",
    "# the variable is 15\n",
    "\n",
    "text = 'the variable is 15'\n",
    "print(text)"
   ]
  },
  {
   "cell_type": "code",
   "execution_count": 346,
   "metadata": {},
   "outputs": [
    {
     "name": "stdout",
     "output_type": "stream",
     "text": [
      "python is great.\n",
      "python is great.\n",
      "python is great.\n"
     ]
    }
   ],
   "source": [
    "#Question 12: Concatenate the following strings and print the result.\n",
    "\n",
    "#Using + operator\n",
    "\n",
    "s1 = 'python '\n",
    "s2 = 'is '\n",
    "s3 = 'great.'\n",
    "s = s1+s2+s3\n",
    "print(s)\n",
    "\n",
    "#Using join() method\n",
    "\n",
    "s1 = 'python '\n",
    "s2 = 'is '\n",
    "s3 = 'great.'\n",
    "s = ''.join([s1, s2, s3])\n",
    "print(s)\n",
    "\n",
    "#Using % operator\n",
    "\n",
    "s1 = 'python '\n",
    "s2 = 'is '\n",
    "s3 = 'great.'\n",
    "str = \"%s%s%s\" % (s1,s2,s3)\n",
    "print(str)"
   ]
  },
  {
   "cell_type": "code",
   "execution_count": 347,
   "metadata": {},
   "outputs": [
    {
     "name": "stdout",
     "output_type": "stream",
     "text": [
      "# # # # # # # # # # # # # # # # # # # # \n",
      "# \n",
      "# \n",
      "# \n",
      "# \n",
      "# \n",
      "# \n",
      "# \n",
      "# \n",
      "# \n",
      "# \n",
      "\n"
     ]
    }
   ],
   "source": [
    "#Question 13: Print '#' 20 times without using a loop.\n",
    "\n",
    "print('# '*20)\n",
    "print('# \\n'*10)"
   ]
  },
  {
   "cell_type": "code",
   "execution_count": 348,
   "metadata": {},
   "outputs": [
    {
     "name": "stdout",
     "output_type": "stream",
     "text": [
      "1 .\n",
      "2 .\n",
      "3 .\n",
      "4 .\n",
      "5 .\n",
      "6 .\n",
      "7 .\n",
      "8 .\n",
      "9 .\n"
     ]
    }
   ],
   "source": [
    "#Question 14: Print numbers from 1 to 9, each on a seperate line, followed by a dot, output should look like the following:\n",
    "#1.\n",
    "#2.\n",
    "#3.\n",
    "\n",
    "for i in range(1, 10):\n",
    "    print(i,'.')"
   ]
  },
  {
   "cell_type": "code",
   "execution_count": 349,
   "metadata": {},
   "outputs": [
    {
     "name": "stdout",
     "output_type": "stream",
     "text": [
      "this\n",
      "is\n",
      "an\n",
      "example\n"
     ]
    }
   ],
   "source": [
    "#Question 15: Ask user to input a sentence and print each word on a different line.\n",
    "\n",
    "msg = input('Enter a sentence')\n",
    "m = msg.split()\n",
    "l = len(m)\n",
    "for i in range(0, l):\n",
    "    print(m[i])"
   ]
  },
  {
   "cell_type": "code",
   "execution_count": 350,
   "metadata": {},
   "outputs": [
    {
     "name": "stdout",
     "output_type": "stream",
     "text": [
      "another example\n",
      "Msg not start with ?\n"
     ]
    }
   ],
   "source": [
    "#Question 16: Ask user to input a string and check if the string ends with '?'\n",
    "\n",
    "msg = input('Enter a msg:')\n",
    "print(msg)\n",
    "if msg.endswith('?'):\n",
    "    print(msg)\n",
    "else:\n",
    "    print('Msg not start with ?')"
   ]
  },
  {
   "cell_type": "code",
   "execution_count": 351,
   "metadata": {},
   "outputs": [
    {
     "name": "stdout",
     "output_type": "stream",
     "text": [
      "this is an example 2\n",
      "e = 2\n"
     ]
    }
   ],
   "source": [
    "#Question 17: Ask user to input a string and print how many times 'e' appeared in the string.\n",
    "\n",
    "msg = input('Enter a msg:')\n",
    "msg.split()\n",
    "print(msg)\n",
    "for i in 'e':\n",
    "    c = msg.count(i)\n",
    "    print(i, '=', c)\n",
    "    "
   ]
  },
  {
   "cell_type": "code",
   "execution_count": 352,
   "metadata": {},
   "outputs": [
    {
     "name": "stdout",
     "output_type": "stream",
     "text": [
      "Good: 23\n"
     ]
    }
   ],
   "source": [
    "#Question 18: Check if the user input is a number.\n",
    "\n",
    "msg = input('Enter a number')\n",
    "if msg.isnumeric():\n",
    "    print('Good:', msg)\n",
    "else:\n",
    "    print('The input is not numeric')"
   ]
  },
  {
   "cell_type": "code",
   "execution_count": 353,
   "metadata": {},
   "outputs": [
    {
     "data": {
      "text/plain": [
       "'this is not a good string'"
      ]
     },
     "execution_count": 353,
     "metadata": {},
     "output_type": "execute_result"
    }
   ],
   "source": [
    "#Question 19: Remove the extra spaces in beginning and in the end of the following string-\n",
    "#text = '   this is not a good string           '\n",
    "\n",
    "text = '   this is not a good string           '\n",
    "text.strip()"
   ]
  },
  {
   "cell_type": "code",
   "execution_count": 354,
   "metadata": {},
   "outputs": [
    {
     "name": "stdout",
     "output_type": "stream",
     "text": [
      "with this example\n",
      "There is no character is upper case\n"
     ]
    }
   ],
   "source": [
    "#Question 20: Ask user to input string, print 'found' if any of the character is upper case.\n",
    "\n",
    "msg = input('Enter a msg')\n",
    "print(msg)\n",
    "if msg == msg.capitalize():\n",
    "    print('found')\n",
    "else:\n",
    "    print('There is no character is upper case')"
   ]
  },
  {
   "cell_type": "code",
   "execution_count": 355,
   "metadata": {},
   "outputs": [
    {
     "name": "stdout",
     "output_type": "stream",
     "text": [
      "['Joe,', 'David,', 'Mark,', 'Tom,', 'Chris,', 'Robert']\n"
     ]
    }
   ],
   "source": [
    "#Question 21: Extract names from the following string and store them in a list.\n",
    "#names = 'Joe, David, Mark, Tom, Chris, Robert'\n",
    "\n",
    "names = 'Joe, David, Mark, Tom, Chris, Robert'\n",
    "n = names.split()\n",
    "print(n)\n"
   ]
  },
  {
   "cell_type": "code",
   "execution_count": 356,
   "metadata": {},
   "outputs": [
    {
     "name": "stdout",
     "output_type": "stream",
     "text": [
      "this aye is aye some aye text aye\n"
     ]
    }
   ],
   "source": [
    "#Question 22: In the following string, add 'aye' in the end of every word and print the results.\n",
    "#text = 'this is some text'\n",
    "\n",
    "text = 'this is some text'\n",
    "w = text.split()\n",
    "w.insert(1, 'aye')\n",
    "w.insert(3, 'aye')\n",
    "w.insert(5, 'aye')\n",
    "w.insert(7, 'aye')\n",
    "s = ' '.join(w)\n",
    "print(s)"
   ]
  },
  {
   "cell_type": "code",
   "execution_count": 357,
   "metadata": {},
   "outputs": [
    {
     "name": "stdout",
     "output_type": "stream",
     "text": [
      "The string is not contain fyi\n"
     ]
    }
   ],
   "source": [
    "#Question 23: Ask user to enter a string and check if the string contains 'fyi'\n",
    "\n",
    "msg = input('Enter a msg')\n",
    "w = 'fyi'\n",
    "if w in msg:\n",
    "    print(msg)\n",
    "else:\n",
    "    print('The string is not contain fyi')"
   ]
  },
  {
   "cell_type": "code",
   "execution_count": 359,
   "metadata": {},
   "outputs": [
    {
     "name": "stdout",
     "output_type": "stream",
     "text": [
      "python\n"
     ]
    }
   ],
   "source": [
    "#Question 24: Remove all the special characters and numbers from the following string\n",
    "#text = '%p34@y!*-*!t68h#&on404'\n",
    "\n",
    "text = '%p34@y!-!t68h#&on404'\n",
    "for i in text:\n",
    "    if i.isalpha()==False:\n",
    "        text=text.replace(i,'')\n",
    "print(text)"
   ]
  },
  {
   "cell_type": "code",
   "execution_count": 360,
   "metadata": {},
   "outputs": [
    {
     "name": "stdout",
     "output_type": "stream",
     "text": [
      "Total number in psg: 123\n",
      "Total word: 22\n",
      "Average: 5\n"
     ]
    }
   ],
   "source": [
    "#Question 25: Calculate the average word length of the following paragraph.\n",
    "# this is a paragraph which is written just for the purpose of providing content to let the average word length be calculated\n",
    "\n",
    "psg = 'this is a paragraph which is written just for the purpose of providing content to let the average word length be calculated'\n",
    "s = len(psg)\n",
    "print('Total number in psg:', s)\n",
    "x = int(s)\n",
    "i = psg.split()\n",
    "i = len(i)\n",
    "print('Total word:', i)\n",
    "y = int(i)\n",
    "avg = x//y\n",
    "print('Average:', avg)"
   ]
  }
 ],
 "metadata": {
  "interpreter": {
   "hash": "25a19fbe0a9132dfb9279d48d161753c6352f8f9478c2e74383d340069b907c3"
  },
  "kernelspec": {
   "display_name": "Python 3.9.12 64-bit",
   "language": "python",
   "name": "python3"
  },
  "language_info": {
   "codemirror_mode": {
    "name": "ipython",
    "version": 3
   },
   "file_extension": ".py",
   "mimetype": "text/x-python",
   "name": "python",
   "nbconvert_exporter": "python",
   "pygments_lexer": "ipython3",
   "version": "3.9.12"
  },
  "orig_nbformat": 4
 },
 "nbformat": 4,
 "nbformat_minor": 2
}
