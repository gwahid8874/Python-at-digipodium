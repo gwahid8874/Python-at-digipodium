{
 "cells": [
  {
   "cell_type": "code",
   "execution_count": 1,
   "metadata": {},
   "outputs": [
    {
     "data": {
      "text/plain": [
       "57"
      ]
     },
     "execution_count": 1,
     "metadata": {},
     "output_type": "execute_result"
    }
   ],
   "source": [
    "2+55"
   ]
  },
  {
   "cell_type": "markdown",
   "metadata": {},
   "source": [
    "# Operators"
   ]
  },
  {
   "cell_type": "code",
   "execution_count": 2,
   "metadata": {},
   "outputs": [
    {
     "data": {
      "text/plain": [
       "4"
      ]
     },
     "execution_count": 2,
     "metadata": {},
     "output_type": "execute_result"
    }
   ],
   "source": [
    "2+2\n"
   ]
  },
  {
   "cell_type": "code",
   "execution_count": 3,
   "metadata": {},
   "outputs": [
    {
     "data": {
      "text/plain": [
       "50.0"
      ]
     },
     "execution_count": 3,
     "metadata": {},
     "output_type": "execute_result"
    }
   ],
   "source": [
    "50/1"
   ]
  },
  {
   "cell_type": "code",
   "execution_count": 4,
   "metadata": {},
   "outputs": [
    {
     "data": {
      "text/plain": [
       "2.0"
      ]
     },
     "execution_count": 4,
     "metadata": {},
     "output_type": "execute_result"
    }
   ],
   "source": [
    "50/25"
   ]
  },
  {
   "cell_type": "code",
   "execution_count": 5,
   "metadata": {},
   "outputs": [
    {
     "data": {
      "text/plain": [
       "30"
      ]
     },
     "execution_count": 5,
     "metadata": {},
     "output_type": "execute_result"
    }
   ],
   "source": [
    "10+20"
   ]
  },
  {
   "cell_type": "code",
   "execution_count": 6,
   "metadata": {},
   "outputs": [
    {
     "data": {
      "text/plain": [
       "97"
      ]
     },
     "execution_count": 6,
     "metadata": {},
     "output_type": "execute_result"
    }
   ],
   "source": [
    "100-3"
   ]
  },
  {
   "cell_type": "code",
   "execution_count": 7,
   "metadata": {},
   "outputs": [
    {
     "data": {
      "text/plain": [
       "200"
      ]
     },
     "execution_count": 7,
     "metadata": {},
     "output_type": "execute_result"
    }
   ],
   "source": [
    "10*20"
   ]
  },
  {
   "cell_type": "code",
   "execution_count": 8,
   "metadata": {},
   "outputs": [
    {
     "data": {
      "text/plain": [
       "4"
      ]
     },
     "execution_count": 8,
     "metadata": {},
     "output_type": "execute_result"
    }
   ],
   "source": [
    "2*2"
   ]
  },
  {
   "cell_type": "code",
   "execution_count": 9,
   "metadata": {},
   "outputs": [
    {
     "data": {
      "text/plain": [
       "4"
      ]
     },
     "execution_count": 9,
     "metadata": {},
     "output_type": "execute_result"
    }
   ],
   "source": [
    "2*2"
   ]
  },
  {
   "cell_type": "code",
   "execution_count": null,
   "metadata": {},
   "outputs": [],
   "source": []
  },
  {
   "cell_type": "code",
   "execution_count": 13,
   "metadata": {},
   "outputs": [
    {
     "data": {
      "text/plain": [
       "False"
      ]
     },
     "execution_count": 13,
     "metadata": {},
     "output_type": "execute_result"
    }
   ],
   "source": [
    "\"Hello\"=='hello'"
   ]
  },
  {
   "cell_type": "code",
   "execution_count": 17,
   "metadata": {},
   "outputs": [
    {
     "data": {
      "text/plain": [
       "True"
      ]
     },
     "execution_count": 17,
     "metadata": {},
     "output_type": "execute_result"
    }
   ],
   "source": [
    "x = 5\n",
    "y = 5\n",
    "x == y"
   ]
  },
  {
   "cell_type": "code",
   "execution_count": 33,
   "metadata": {},
   "outputs": [
    {
     "data": {
      "text/plain": [
       "False"
      ]
     },
     "execution_count": 33,
     "metadata": {},
     "output_type": "execute_result"
    }
   ],
   "source": [
    "x = [1,2,2,3]\n",
    "y = [1,2,2,3]\n",
    "z = y\n",
    "p = [2,4,6,8]\n",
    "x is p\n"
   ]
  },
  {
   "cell_type": "code",
   "execution_count": 36,
   "metadata": {},
   "outputs": [
    {
     "data": {
      "text/plain": [
       "True"
      ]
     },
     "execution_count": 36,
     "metadata": {},
     "output_type": "execute_result"
    }
   ],
   "source": [
    "z is p"
   ]
  },
  {
   "cell_type": "code",
   "execution_count": 40,
   "metadata": {},
   "outputs": [],
   "source": [
    "days = ['Sunday', 'Monday', 'Tuesday', 'Wedneshday', 'Thursday', 'Friday', 'Saturday']"
   ]
  },
  {
   "cell_type": "code",
   "execution_count": 41,
   "metadata": {},
   "outputs": [
    {
     "data": {
      "text/plain": [
       "True"
      ]
     },
     "execution_count": 41,
     "metadata": {},
     "output_type": "execute_result"
    }
   ],
   "source": [
    "'Sunday' in days"
   ]
  },
  {
   "cell_type": "code",
   "execution_count": 46,
   "metadata": {},
   "outputs": [],
   "source": [
    "num = [234, 1234, 4234, 324, 534545, 3545, 435, 234, 23, 2, 33, 3]\n"
   ]
  },
  {
   "cell_type": "code",
   "execution_count": 49,
   "metadata": {},
   "outputs": [
    {
     "data": {
      "text/plain": [
       "True"
      ]
     },
     "execution_count": 49,
     "metadata": {},
     "output_type": "execute_result"
    }
   ],
   "source": [
    "23 in num"
   ]
  },
  {
   "cell_type": "code",
   "execution_count": 53,
   "metadata": {},
   "outputs": [],
   "source": [
    "msg = input(\"Who is your fev actor\")"
   ]
  },
  {
   "cell_type": "code",
   "execution_count": 51,
   "metadata": {},
   "outputs": [],
   "source": [
    "msg = input(\"What is your name\")"
   ]
  },
  {
   "cell_type": "code",
   "execution_count": 55,
   "metadata": {},
   "outputs": [],
   "source": [
    "msg = input(\"what is your number\")"
   ]
  },
  {
   "cell_type": "code",
   "execution_count": 56,
   "metadata": {},
   "outputs": [],
   "source": [
    "Name = input('Enter your name:')\n",
    "Age = input('Enter your age:')\n",
    "School = input('Enter your school name:')"
   ]
  },
  {
   "cell_type": "code",
   "execution_count": 57,
   "metadata": {},
   "outputs": [],
   "source": [
    "Age = int(Age)"
   ]
  },
  {
   "cell_type": "code",
   "execution_count": 63,
   "metadata": {},
   "outputs": [
    {
     "data": {
      "text/plain": [
       "'100-90'"
      ]
     },
     "execution_count": 63,
     "metadata": {},
     "output_type": "execute_result"
    }
   ],
   "source": [
    "x = '100'\n",
    "y = '-90'\n",
    "x+y"
   ]
  },
  {
   "cell_type": "code",
   "execution_count": 60,
   "metadata": {},
   "outputs": [
    {
     "data": {
      "text/plain": [
       "10"
      ]
     },
     "execution_count": 60,
     "metadata": {},
     "output_type": "execute_result"
    }
   ],
   "source": [
    "x = int(x)\n",
    "y = int(y)\n",
    "x+y"
   ]
  },
  {
   "cell_type": "code",
   "execution_count": 71,
   "metadata": {},
   "outputs": [
    {
     "data": {
      "text/plain": [
       "'1010'"
      ]
     },
     "execution_count": 71,
     "metadata": {},
     "output_type": "execute_result"
    }
   ],
   "source": [
    "x='10'\n",
    "y='10'\n",
    "x+y"
   ]
  },
  {
   "cell_type": "code",
   "execution_count": 72,
   "metadata": {},
   "outputs": [
    {
     "data": {
      "text/plain": [
       "20"
      ]
     },
     "execution_count": 72,
     "metadata": {},
     "output_type": "execute_result"
    }
   ],
   "source": [
    "x=int(x)\n",
    "y=int(y)\n",
    "x+y"
   ]
  },
  {
   "cell_type": "code",
   "execution_count": 99,
   "metadata": {},
   "outputs": [
    {
     "data": {
      "text/plain": [
       "'101011.25'"
      ]
     },
     "execution_count": 99,
     "metadata": {},
     "output_type": "execute_result"
    }
   ],
   "source": [
    "x='10'\n",
    "y='101'\n",
    "z='1.25'\n",
    "x+y+z"
   ]
  },
  {
   "cell_type": "code",
   "execution_count": 100,
   "metadata": {},
   "outputs": [
    {
     "data": {
      "text/plain": [
       "109.75"
      ]
     },
     "execution_count": 100,
     "metadata": {},
     "output_type": "execute_result"
    }
   ],
   "source": [
    "x=int(x)\n",
    "y=int(y)\n",
    "z=float(z)\n",
    "x+y-z"
   ]
  },
  {
   "cell_type": "code",
   "execution_count": 80,
   "metadata": {},
   "outputs": [],
   "source": [
    "x=5\n",
    "x=str(5)"
   ]
  },
  {
   "cell_type": "code",
   "execution_count": 81,
   "metadata": {},
   "outputs": [],
   "source": [
    "pi=3.15\n",
    "p=int(pi)"
   ]
  },
  {
   "cell_type": "code",
   "execution_count": 179,
   "metadata": {},
   "outputs": [
    {
     "ename": "ValueError",
     "evalue": "invalid literal for int() with base 10: \"dfhb'\"",
     "output_type": "error",
     "traceback": [
      "\u001b[1;31m---------------------------------------------------------------------------\u001b[0m",
      "\u001b[1;31mValueError\u001b[0m                                Traceback (most recent call last)",
      "\u001b[1;32mc:\\Users\\ankit\\Downloads\\Hello\\Hello\\basics.ipynb Cell 34'\u001b[0m in \u001b[0;36m<cell line: 4>\u001b[1;34m()\u001b[0m\n\u001b[0;32m      <a href='vscode-notebook-cell:/c%3A/Users/ankit/Downloads/Hello/Hello/basics.ipynb#ch0000035?line=1'>2</a>\u001b[0m Address \u001b[39m=\u001b[39m \u001b[39minput\u001b[39m(\u001b[39m'\u001b[39m\u001b[39mWhat is your address\u001b[39m\u001b[39m'\u001b[39m)\n\u001b[0;32m      <a href='vscode-notebook-cell:/c%3A/Users/ankit/Downloads/Hello/Hello/basics.ipynb#ch0000035?line=2'>3</a>\u001b[0m Contact \u001b[39m=\u001b[39m \u001b[39minput\u001b[39m(\u001b[39m'\u001b[39m\u001b[39mWhat is your Phone numner\u001b[39m\u001b[39m'\u001b[39m)\n\u001b[1;32m----> <a href='vscode-notebook-cell:/c%3A/Users/ankit/Downloads/Hello/Hello/basics.ipynb#ch0000035?line=3'>4</a>\u001b[0m Contact \u001b[39m=\u001b[39m \u001b[39mint\u001b[39;49m(Contact)\n\u001b[0;32m      <a href='vscode-notebook-cell:/c%3A/Users/ankit/Downloads/Hello/Hello/basics.ipynb#ch0000035?line=4'>5</a>\u001b[0m Email \u001b[39m=\u001b[39m \u001b[39minput\u001b[39m(\u001b[39m'\u001b[39m\u001b[39mWhat is your email address\u001b[39m\u001b[39m'\u001b[39m)\n",
      "\u001b[1;31mValueError\u001b[0m: invalid literal for int() with base 10: \"dfhb'\""
     ]
    }
   ],
   "source": [
    "Name = input('What is your name')\n",
    "Address = input('What is your address')\n",
    "Contact = input('What is your Phone numner')\n",
    "Contact = int(Contact)\n",
    "Email = input('What is your email address')"
   ]
  },
  {
   "cell_type": "code",
   "execution_count": null,
   "metadata": {},
   "outputs": [],
   "source": []
  },
  {
   "cell_type": "code",
   "execution_count": 106,
   "metadata": {},
   "outputs": [],
   "source": [
    "x=5\n",
    "y=4\n",
    "z=78"
   ]
  },
  {
   "cell_type": "code",
   "execution_count": 113,
   "metadata": {},
   "outputs": [
    {
     "data": {
      "text/plain": [
       "False"
      ]
     },
     "execution_count": 113,
     "metadata": {},
     "output_type": "execute_result"
    }
   ],
   "source": [
    "x==y"
   ]
  },
  {
   "cell_type": "code",
   "execution_count": 115,
   "metadata": {},
   "outputs": [
    {
     "data": {
      "text/plain": [
       "True"
      ]
     },
     "execution_count": 115,
     "metadata": {},
     "output_type": "execute_result"
    }
   ],
   "source": [
    "x!=z"
   ]
  },
  {
   "cell_type": "code",
   "execution_count": 116,
   "metadata": {},
   "outputs": [
    {
     "data": {
      "text/plain": [
       "True"
      ]
     },
     "execution_count": 116,
     "metadata": {},
     "output_type": "execute_result"
    }
   ],
   "source": [
    "z>x"
   ]
  },
  {
   "cell_type": "code",
   "execution_count": 117,
   "metadata": {},
   "outputs": [
    {
     "data": {
      "text/plain": [
       "False"
      ]
     },
     "execution_count": 117,
     "metadata": {},
     "output_type": "execute_result"
    }
   ],
   "source": [
    "x<y"
   ]
  },
  {
   "cell_type": "code",
   "execution_count": 118,
   "metadata": {},
   "outputs": [
    {
     "data": {
      "text/plain": [
       "625"
      ]
     },
     "execution_count": 118,
     "metadata": {},
     "output_type": "execute_result"
    }
   ],
   "source": [
    "x**y"
   ]
  },
  {
   "cell_type": "code",
   "execution_count": 119,
   "metadata": {},
   "outputs": [
    {
     "data": {
      "text/plain": [
       "-58"
      ]
     },
     "execution_count": 119,
     "metadata": {},
     "output_type": "execute_result"
    }
   ],
   "source": [
    "x*y-z"
   ]
  },
  {
   "cell_type": "code",
   "execution_count": 120,
   "metadata": {},
   "outputs": [
    {
     "data": {
      "text/plain": [
       "19.6"
      ]
     },
     "execution_count": 120,
     "metadata": {},
     "output_type": "execute_result"
    }
   ],
   "source": [
    "z/x+y"
   ]
  },
  {
   "cell_type": "code",
   "execution_count": 121,
   "metadata": {},
   "outputs": [
    {
     "data": {
      "text/plain": [
       "15"
      ]
     },
     "execution_count": 121,
     "metadata": {},
     "output_type": "execute_result"
    }
   ],
   "source": [
    "z//x"
   ]
  },
  {
   "cell_type": "code",
   "execution_count": 122,
   "metadata": {},
   "outputs": [
    {
     "data": {
      "text/plain": [
       "15.6"
      ]
     },
     "execution_count": 122,
     "metadata": {},
     "output_type": "execute_result"
    }
   ],
   "source": [
    "z/x"
   ]
  },
  {
   "cell_type": "code",
   "execution_count": 123,
   "metadata": {},
   "outputs": [
    {
     "data": {
      "text/plain": [
       "1"
      ]
     },
     "execution_count": 123,
     "metadata": {},
     "output_type": "execute_result"
    }
   ],
   "source": [
    "x%y"
   ]
  },
  {
   "cell_type": "code",
   "execution_count": 124,
   "metadata": {},
   "outputs": [
    {
     "data": {
      "text/plain": [
       "2"
      ]
     },
     "execution_count": 124,
     "metadata": {},
     "output_type": "execute_result"
    }
   ],
   "source": [
    "z%y"
   ]
  },
  {
   "cell_type": "code",
   "execution_count": 125,
   "metadata": {},
   "outputs": [
    {
     "data": {
      "text/plain": [
       "2"
      ]
     },
     "execution_count": 125,
     "metadata": {},
     "output_type": "execute_result"
    }
   ],
   "source": [
    "z%y%x"
   ]
  },
  {
   "cell_type": "code",
   "execution_count": 137,
   "metadata": {},
   "outputs": [],
   "source": [
    "x=5\n",
    "y=10"
   ]
  },
  {
   "cell_type": "code",
   "execution_count": 140,
   "metadata": {},
   "outputs": [
    {
     "data": {
      "text/plain": [
       "False"
      ]
     },
     "execution_count": 140,
     "metadata": {},
     "output_type": "execute_result"
    }
   ],
   "source": [
    "x==y"
   ]
  },
  {
   "cell_type": "code",
   "execution_count": 145,
   "metadata": {},
   "outputs": [
    {
     "data": {
      "text/plain": [
       "True"
      ]
     },
     "execution_count": 145,
     "metadata": {},
     "output_type": "execute_result"
    }
   ],
   "source": [
    "x!=y"
   ]
  },
  {
   "cell_type": "code",
   "execution_count": 148,
   "metadata": {},
   "outputs": [
    {
     "data": {
      "text/plain": [
       "True"
      ]
     },
     "execution_count": 148,
     "metadata": {},
     "output_type": "execute_result"
    }
   ],
   "source": [
    "x>=y"
   ]
  },
  {
   "cell_type": "code",
   "execution_count": 149,
   "metadata": {},
   "outputs": [
    {
     "data": {
      "text/plain": [
       "False"
      ]
     },
     "execution_count": 149,
     "metadata": {},
     "output_type": "execute_result"
    }
   ],
   "source": [
    "x<=y"
   ]
  },
  {
   "cell_type": "code",
   "execution_count": 166,
   "metadata": {},
   "outputs": [
    {
     "data": {
      "text/plain": [
       "False"
      ]
     },
     "execution_count": 166,
     "metadata": {},
     "output_type": "execute_result"
    }
   ],
   "source": [
    "x=5\n",
    "y=5\n",
    "x < y and x > y"
   ]
  },
  {
   "cell_type": "code",
   "execution_count": 168,
   "metadata": {},
   "outputs": [],
   "source": [
    "num = [1,2,3,4,5,6,7,8,9,5,52,5,4,8,6,5,4,8,1,3,2,5,4,7,56,5,6,1,5,4,1,8,4,25,5,6,2,5,5,2,3,14,5,6,]"
   ]
  },
  {
   "cell_type": "code",
   "execution_count": 190,
   "metadata": {},
   "outputs": [
    {
     "data": {
      "text/plain": [
       "True"
      ]
     },
     "execution_count": 190,
     "metadata": {},
     "output_type": "execute_result"
    }
   ],
   "source": [
    "100 not in  num"
   ]
  },
  {
   "cell_type": "code",
   "execution_count": 185,
   "metadata": {},
   "outputs": [
    {
     "data": {
      "text/plain": [
       "True"
      ]
     },
     "execution_count": 185,
     "metadata": {},
     "output_type": "execute_result"
    }
   ],
   "source": [
    "x=10\n",
    "y=10\n",
    "x is y"
   ]
  },
  {
   "cell_type": "markdown",
   "metadata": {},
   "source": []
  },
  {
   "cell_type": "code",
   "execution_count": 1,
   "metadata": {},
   "outputs": [
    {
     "name": "stdout",
     "output_type": "stream",
     "text": [
      "Your name: atif\n",
      "Your city: luck\n",
      "Your favourite food: mango\n",
      "Your favourite movie: rrr\n",
      "Your favourite book: julliet\n"
     ]
    }
   ],
   "source": [
    "Name = input (\"Enter your name:\")\n",
    "City = input (\"Enter your city:\")\n",
    "Fav_food = input (\"Enter your favourite food:\")\n",
    "Fav_movie = input (\"Enter your favourite movie:\")\n",
    "Fav_book = input (\"Enter your book:\")\n",
    "\n",
    "print(f'Your name: {Name}')\n",
    "print(f'Your city: {City}')\n",
    "print(f'Your favourite food: {Fav_food}')\n",
    "print(f'Your favourite movie: {Fav_movie}')\n",
    "print(f'Your favourite book: {Fav_book}')"
   ]
  },
  {
   "cell_type": "code",
   "execution_count": 194,
   "metadata": {},
   "outputs": [
    {
     "name": "stdout",
     "output_type": "stream",
     "text": [
      "10 + 10 = 20\n"
     ]
    }
   ],
   "source": [
    "num1 = int(input(\"Enter Your Number\"))\n",
    "num2 = int(input(\"Enter Your Second Number\"))\n",
    "num3 = num1 + num2\n",
    "\n",
    "print(f'{num1} + {num2} = {num3}')"
   ]
  },
  {
   "cell_type": "code",
   "execution_count": 196,
   "metadata": {},
   "outputs": [
    {
     "name": "stdout",
     "output_type": "stream",
     "text": [
      "10 + 10 + 10 + 10 + 101 = 141\n"
     ]
    }
   ],
   "source": [
    "num1 = int(input(\"Enter Your Number\"))\n",
    "num2 = int(input(\"Enter Your Second Number\"))\n",
    "num3 = int(input(\"Enter Your third Number\"))\n",
    "num4 = int(input(\"Enter Your fourth Number\"))\n",
    "num5 = int(input(\"Enter Your fivth Number\"))\n",
    "num6 = num1 + num2 + num3 + num4 + num5\n",
    "\n",
    "print(f'{num1} + {num2} + {num3} + {num4} + {num5} = {num6}')"
   ]
  },
  {
   "cell_type": "code",
   "execution_count": 198,
   "metadata": {},
   "outputs": [
    {
     "name": "stdout",
     "output_type": "stream",
     "text": [
      "10 * 10 = 10000000000\n"
     ]
    }
   ],
   "source": [
    "num1 = int(input(\"Enter number\"))\n",
    "num2 = int(input(\"Enter second number\"))\n",
    "num3 = num1**num2\n",
    "\n",
    "print(f'{num1} * {num2} = {num3}')"
   ]
  },
  {
   "cell_type": "code",
   "execution_count": 199,
   "metadata": {},
   "outputs": [
    {
     "name": "stdout",
     "output_type": "stream",
     "text": [
      "200.0\n"
     ]
    }
   ],
   "source": [
    "p = float(input(\"Enter perpendicular\"))\n",
    "b = float(input(\"Enter base\"))\n",
    "h = p**2 + b**2\n",
    "\n",
    "print(f'{h}')"
   ]
  },
  {
   "cell_type": "code",
   "execution_count": 233,
   "metadata": {},
   "outputs": [
    {
     "name": "stdout",
     "output_type": "stream",
     "text": [
      "Simple: 200.0\n",
      "si:1200.0\n"
     ]
    }
   ],
   "source": [
    "p = float(input(\"Enter your amount\"))\n",
    "r = float(input(\"Enter rate\"))\n",
    "t = float(input(\"Enter time\"))\n",
    "si = (p*r*t)/100\n",
    "a = si+p\n",
    "\n",
    "print(f'Simple: {si}')\n",
    "print(f'si:{a}')"
   ]
  },
  {
   "cell_type": "code",
   "execution_count": 213,
   "metadata": {},
   "outputs": [
    {
     "name": "stdout",
     "output_type": "stream",
     "text": [
      "You see an apple\n",
      "Purchase 2 kg of apple\n"
     ]
    }
   ],
   "source": [
    "print('You see an apple')\n",
    "q = input ('Do you like apple?')\n",
    "if q == 'yes':\n",
    "    print('Purchase 2 kg of apple')\n",
    "if q == 'no':\n",
    "    print('You dont purchase apple')"
   ]
  },
  {
   "cell_type": "code",
   "execution_count": 217,
   "metadata": {},
   "outputs": [
    {
     "name": "stdout",
     "output_type": "stream",
     "text": [
      "You see an apple\n",
      "Purchase 2 kg of apple\n"
     ]
    }
   ],
   "source": [
    "print('You see an apple')\n",
    "q = input ('Do you like apple?')\n",
    "if q == 'y' or q == 'yes':\n",
    "    print('Purchase 2 kg of apple')\n",
    "if q == 'n':\n",
    "    print('You dont purchase apple')"
   ]
  },
  {
   "cell_type": "code",
   "execution_count": 10,
   "metadata": {},
   "outputs": [
    {
     "name": "stdout",
     "output_type": "stream",
     "text": [
      "The End\n"
     ]
    }
   ],
   "source": [
    "x = 10\n",
    "if x > 11:\n",
    "    print('x is grater than 5')\n",
    "    print('This is the info we need')\n",
    "    print('with this power, comes great responsinility')\n",
    "else:\n",
    "    print('The End')"
   ]
  },
  {
   "cell_type": "code",
   "execution_count": 6,
   "metadata": {},
   "outputs": [
    {
     "name": "stdout",
     "output_type": "stream",
     "text": [
      "Wear long pants\n",
      "Get some exercies outside\n"
     ]
    }
   ],
   "source": [
    "temp = float(input('What is the temperatire?'))\n",
    "if temp > 100:\n",
    "    print('Wear shorts')\n",
    "else:\n",
    "    print('Wear long pants')\n",
    "print('Get some exercies outside')"
   ]
  },
  {
   "cell_type": "code",
   "execution_count": 4,
   "metadata": {},
   "outputs": [
    {
     "name": "stdout",
     "output_type": "stream",
     "text": [
      "D\n"
     ]
    }
   ],
   "source": [
    "score = float(input('Your score'))\n",
    "if score >= 90:\n",
    "    letter = 'A'\n",
    "elif score >= 80:\n",
    "    letter = 'B'\n",
    "elif score >= 70:\n",
    "    letter = 'C'\n",
    "elif score >= 60:\n",
    "    letter = 'D'\n",
    "else:\n",
    "    letter = 'F'\n",
    "print(letter)"
   ]
  },
  {
   "cell_type": "code",
   "execution_count": 149,
   "metadata": {},
   "outputs": [
    {
     "name": "stdout",
     "output_type": "stream",
     "text": [
      "1>>2>>3>>4"
     ]
    }
   ],
   "source": [
    "print(1,2,3,4, sep='>>', end='')\n"
   ]
  },
  {
   "cell_type": "code",
   "execution_count": 30,
   "metadata": {},
   "outputs": [
    {
     "name": "stdout",
     "output_type": "stream",
     "text": [
      "10\n"
     ]
    }
   ],
   "source": [
    "# one liner 1\n",
    "if 10 in range(100): print(\"10\")"
   ]
  },
  {
   "cell_type": "code",
   "execution_count": 28,
   "metadata": {},
   "outputs": [
    {
     "name": "stdout",
     "output_type": "stream",
     "text": [
      "Bob\n"
     ]
    }
   ],
   "source": [
    "# one liner 2\n",
    "x = \"Alice\" if \"Jon\" in \"My name is Daya\" else \"Bob\"\n",
    "print(x)"
   ]
  },
  {
   "cell_type": "code",
   "execution_count": 31,
   "metadata": {},
   "outputs": [
    {
     "name": "stdout",
     "output_type": "stream",
     "text": [
      "100\n"
     ]
    }
   ],
   "source": [
    "# one liner 3\n",
    "print(\"20\") if 10000 in [10,20,30,40,50] else print(\"100\")"
   ]
  },
  {
   "cell_type": "code",
   "execution_count": 43,
   "metadata": {},
   "outputs": [
    {
     "name": "stdout",
     "output_type": "stream",
     "text": [
      "Your amount:10000.0\n",
      "Rate:10.0\n",
      "Time:1.0\n",
      "Simple: 1000.0\n",
      "si:11000.0\n"
     ]
    }
   ],
   "source": [
    "p = float(input(\"Enter your amount\"))\n",
    "r = float(input(\"Enter rate\"))\n",
    "t = float(input(\"Enter time\"))\n",
    "si = (p*r*t)/100\n",
    "a = si+p\n",
    "\n",
    "print(f'Your amount:{p}')\n",
    "print(f'Rate:{r}')\n",
    "print(f'Time:{t}')\n",
    "print(f'Simple: {si}')\n",
    "print(f'si:{a}')"
   ]
  },
  {
   "cell_type": "code",
   "execution_count": 70,
   "metadata": {},
   "outputs": [
    {
     "name": "stdout",
     "output_type": "stream",
     "text": [
      "Your amount:25000.0\n",
      "Rate:10.0\n",
      "Time:2.0\n",
      "Amount:30250\n",
      "Compund Intrest:5250\n"
     ]
    }
   ],
   "source": [
    "p = float(input(\"Enter your amount\"))\n",
    "r = float(input(\"Enter rate\"))\n",
    "t = float(input(\"Enter time\"))\n",
    "\n",
    "a = p*(1+r/100)**t\n",
    "a = int(a)\n",
    "ci = a-p\n",
    "ci = int(ci)\n",
    "\n",
    "print(f'Your amount:{p}')\n",
    "print(f'Rate:{r}')\n",
    "print(f'Time:{t}')\n",
    "print(f'Amount:{a}')\n",
    "print(f'Compund Intrest:{ci}')\n"
   ]
  },
  {
   "cell_type": "code",
   "execution_count": 3,
   "metadata": {},
   "outputs": [],
   "source": [
    "salary = 19000\n",
    "if salary > 20000:\n",
    "    hra = '5%'\n",
    "else:\n",
    "    hra = '6%'"
   ]
  },
  {
   "cell_type": "code",
   "execution_count": 4,
   "metadata": {},
   "outputs": [
    {
     "name": "stdout",
     "output_type": "stream",
     "text": [
      "HRA: 6%\n"
     ]
    }
   ],
   "source": [
    "hra = '5%' if salary > 20000 else '6%'\n",
    "print(f'HRA: {hra}')"
   ]
  },
  {
   "cell_type": "code",
   "execution_count": 5,
   "metadata": {},
   "outputs": [
    {
     "name": "stdout",
     "output_type": "stream",
     "text": [
      "P\n",
      "y\n",
      "t\n",
      "h\n",
      "o\n",
      "n\n"
     ]
    }
   ],
   "source": [
    "x = \"Python\"\n",
    "for i in x:\n",
    "    print(i)"
   ]
  },
  {
   "cell_type": "code",
   "execution_count": 1,
   "metadata": {},
   "outputs": [
    {
     "name": "stdout",
     "output_type": "stream",
     "text": [
      "t\n",
      "h\n",
      "i\n",
      "s\n",
      " \n",
      "i\n",
      "s\n",
      " \n",
      "s\n",
      "p\n",
      "a\n",
      "r\n",
      "t\n",
      "a\n"
     ]
    }
   ],
   "source": [
    "word = \"this is sparta\"\n",
    "for i in word:\n",
    "    print(i)"
   ]
  },
  {
   "cell_type": "code",
   "execution_count": 3,
   "metadata": {},
   "outputs": [
    {
     "name": "stdout",
     "output_type": "stream",
     "text": [
      "I have apple\n",
      "I have banana\n",
      "I have lemon\n"
     ]
    }
   ],
   "source": [
    "fruits = ['apple', 'banana','lemon']\n",
    "for item in fruits:\n",
    "    print(f'I have {item}')"
   ]
  },
  {
   "cell_type": "code",
   "execution_count": 5,
   "metadata": {},
   "outputs": [
    {
     "name": "stdout",
     "output_type": "stream",
     "text": [
      "a\n",
      "p\n",
      "p\n",
      "l\n",
      "e\n",
      ",\n",
      " \n",
      "b\n",
      "a\n",
      "n\n",
      "a\n",
      "n\n",
      "a\n",
      ",\n",
      " \n",
      "l\n",
      "e\n",
      "m\n",
      "o\n",
      "n\n"
     ]
    }
   ],
   "source": [
    "fruits = \"apple, banana, lemon\"\n",
    "for item in fruits:\n",
    "    print(item)"
   ]
  },
  {
   "cell_type": "code",
   "execution_count": 7,
   "metadata": {},
   "outputs": [
    {
     "name": "stdout",
     "output_type": "stream",
     "text": [
      "0\n",
      "1\n",
      "2\n",
      "3\n",
      "4\n",
      "5\n",
      "6\n",
      "7\n",
      "8\n",
      "9\n"
     ]
    }
   ],
   "source": [
    "for i in range(10):\n",
    "    print(i)"
   ]
  },
  {
   "cell_type": "code",
   "execution_count": 10,
   "metadata": {},
   "outputs": [
    {
     "name": "stdout",
     "output_type": "stream",
     "text": [
      "2\n",
      "3\n",
      "4\n",
      "5\n",
      "6\n",
      "7\n",
      "8\n",
      "9\n"
     ]
    }
   ],
   "source": [
    "for i in range(2, 10):\n",
    "    print(i)"
   ]
  },
  {
   "cell_type": "code",
   "execution_count": 17,
   "metadata": {},
   "outputs": [
    {
     "name": "stdout",
     "output_type": "stream",
     "text": [
      "1\n",
      "6\n",
      "11\n",
      "16\n",
      "21\n",
      "26\n"
     ]
    }
   ],
   "source": [
    "for i in range(1, 30, 5):\n",
    "    print(i)"
   ]
  },
  {
   "cell_type": "code",
   "execution_count": 18,
   "metadata": {},
   "outputs": [
    {
     "name": "stdout",
     "output_type": "stream",
     "text": [
      "you got point 0\n",
      "you got point 1\n",
      "you got point 2\n",
      "you got point 3\n",
      "you got point 4\n",
      "you got point 5\n"
     ]
    }
   ],
   "source": [
    "for i in range(6):\n",
    "    print('you got point', i)"
   ]
  },
  {
   "cell_type": "code",
   "execution_count": 19,
   "metadata": {},
   "outputs": [
    {
     "name": "stdout",
     "output_type": "stream",
     "text": [
      "2\n",
      "3\n",
      "4\n",
      "5\n",
      "6\n",
      "7\n",
      "8\n",
      "9\n",
      "10\n"
     ]
    }
   ],
   "source": [
    "for num in range(2, 11):\n",
    "    print(num)"
   ]
  },
  {
   "cell_type": "code",
   "execution_count": 23,
   "metadata": {},
   "outputs": [
    {
     "name": "stdout",
     "output_type": "stream",
     "text": [
      "10\n",
      "8\n",
      "6\n",
      "4\n"
     ]
    }
   ],
   "source": [
    "# revers loop\n",
    "for num in range(10, 2, -2):\n",
    "    print(num)"
   ]
  },
  {
   "cell_type": "code",
   "execution_count": 31,
   "metadata": {},
   "outputs": [
    {
     "name": "stdout",
     "output_type": "stream",
     "text": [
      "\n",
      "Na\n",
      "NaNa\n",
      "NaNaNa\n",
      "NaNaNaNa\n",
      "NaNaNaNaNa\n",
      "NaNaNaNaNaNa\n",
      "NaNaNaNaNaNaNa\n",
      "NaNaNaNaNaNaNaNa\n",
      "NaNaNaNaNaNaNaNaNa\n"
     ]
    }
   ],
   "source": [
    "# patter loop\n",
    "for i in range(10):\n",
    "    print(i * 'Na')"
   ]
  },
  {
   "cell_type": "code",
   "execution_count": 132,
   "metadata": {},
   "outputs": [
    {
     "name": "stdout",
     "output_type": "stream",
     "text": [
      "15\n",
      "30\n",
      "45\n",
      "60\n",
      "75\n",
      "90\n"
     ]
    }
   ],
   "source": [
    "for num in range(1,100):\n",
    "    if num % 3 == 0 and num % 5 == 0:\n",
    "        print(num)"
   ]
  },
  {
   "cell_type": "code",
   "execution_count": 35,
   "metadata": {},
   "outputs": [
    {
     "name": "stdout",
     "output_type": "stream",
     "text": [
      "Paris contains 5 characters\n",
      "London contains 6 characters\n",
      "New York contains 8 characters\n",
      "India contains 5 characters\n"
     ]
    }
   ],
   "source": [
    "places = [\"Paris\", \"London\", \"New York\", \"India\"]\n",
    "for place in places:\n",
    "    print(f'{place} contains {len(place)} characters')"
   ]
  },
  {
   "cell_type": "code",
   "execution_count": 38,
   "metadata": {},
   "outputs": [
    {
     "name": "stdout",
     "output_type": "stream",
     "text": [
      "6\n"
     ]
    }
   ],
   "source": [
    "x =[1,2,5,45,4,84,1,12,10,5,1,5,18,5,8,15,15,14,8,4,5,5,1]\n",
    "c = 0\n",
    "for i in x:\n",
    "    if i == 5:\n",
    "        c += 1\n",
    "print(c)"
   ]
  },
  {
   "cell_type": "code",
   "execution_count": 113,
   "metadata": {},
   "outputs": [
    {
     "name": "stdout",
     "output_type": "stream",
     "text": [
      "2\n",
      "0\n"
     ]
    }
   ],
   "source": [
    "x = [1,2,3,4,5,2,6,7,8,9,1,2,3,2,4,5,67,8,9,3,3,3,3,3]\n",
    "y = [1,2,3,4,5,6,7,8,9,1,2,2,3,4,5,67,2,8,9]\n",
    "c = 0\n",
    "d = 0\n",
    "for i, j in zip(x,y):\n",
    "    if i == 3:\n",
    "        c += 1\n",
    "    if j == 0:\n",
    "        d += 1\n",
    "print(c)\n",
    "print(d)\n"
   ]
  },
  {
   "cell_type": "code",
   "execution_count": 2,
   "metadata": {},
   "outputs": [
    {
     "name": "stdout",
     "output_type": "stream",
     "text": [
      "10\n",
      "4\n",
      "8\n"
     ]
    }
   ],
   "source": [
    "x = [1,2,3,4,5,6,7,8,9,6,5,4,7,8,2,1,3,6,2,2,2,2,2,2,2,2]\n",
    "y = [4,5,8,2,5,8,7,4,1,3,6,5,4,7,8,9,3,6,5,2,6]\n",
    "z = [1,2,3,4,5,6,7,8,9,9,9,9,9,9,9,9,10]\n",
    "a = 0\n",
    "b = 0\n",
    "c = 0\n",
    "for i in x:\n",
    "    if i == 2:\n",
    "        a += 1\n",
    "for j in y:\n",
    "    if j == 5:\n",
    "        b += 1\n",
    "for k in z:\n",
    "    if k == 9:\n",
    "        c += 1\n",
    "print(a)\n",
    "print(b)\n",
    "print(c)"
   ]
  },
  {
   "cell_type": "code",
   "execution_count": 1,
   "metadata": {},
   "outputs": [
    {
     "name": "stdout",
     "output_type": "stream",
     "text": [
      "1\n",
      "2\n",
      "1\n"
     ]
    }
   ],
   "source": [
    "x = [1,2,3,4,5,6,7,8,9,6,5,4,7,8,2,1,3,6,2,2,2,2,2,2,2,2]\n",
    "y = [4,5,8,2,5,8,7,4,1,3,6,5,4,7,8,9,3,6,5,2,6]\n",
    "z = [1,2,3,4,5,6,7,8,9,10]\n",
    "\n",
    "a = 0\n",
    "b = 0\n",
    "c = 0\n",
    "\n",
    "for i, j, k in zip(x, y, z):\n",
    "    if i == 2:\n",
    "        a += 1\n",
    "    if j == 4:\n",
    "        b += 1\n",
    "    if k == 1:\n",
    "        c += 1\n",
    "print(a)\n",
    "print(b)\n",
    "print(c)"
   ]
  },
  {
   "cell_type": "markdown",
   "metadata": {},
   "source": [
    "# while loop"
   ]
  },
  {
   "cell_type": "code",
   "execution_count": 4,
   "metadata": {},
   "outputs": [
    {
     "name": "stdout",
     "output_type": "stream",
     "text": [
      "Runing code\n",
      "Runing code\n",
      "Runing code\n",
      "Runing code\n",
      "Runing code\n",
      "Runing code\n",
      "Runing code\n",
      "Runing code\n",
      "Runing code\n",
      "Stop\n"
     ]
    }
   ],
   "source": [
    "x = 1\n",
    "while x < 10:\n",
    "    print('Runing code')\n",
    "    x += 1\n",
    "print('Stop')"
   ]
  },
  {
   "cell_type": "code",
   "execution_count": 16,
   "metadata": {},
   "outputs": [
    {
     "name": "stdout",
     "output_type": "stream",
     "text": [
      "The total is 210\n"
     ]
    }
   ],
   "source": [
    "# complex\n",
    "n = 20\n",
    "# initialize sum and counter\n",
    "total = 0\n",
    "i = 1\n",
    "while i <= n:\n",
    "    total = total + i\n",
    "    i += 1 # Update\n",
    "print(\"The total is\", total)"
   ]
  },
  {
   "cell_type": "code",
   "execution_count": 24,
   "metadata": {},
   "outputs": [
    {
     "name": "stdout",
     "output_type": "stream",
     "text": [
      "You continued running this loop\n",
      "You continued running this loop\n"
     ]
    }
   ],
   "source": [
    "while input(\"continue\") == \"y\":\n",
    "    print(\"You continued running this loop\")"
   ]
  },
  {
   "cell_type": "code",
   "execution_count": 23,
   "metadata": {},
   "outputs": [
    {
     "name": "stdout",
     "output_type": "stream",
     "text": [
      "You enterd a place\n"
     ]
    }
   ],
   "source": [
    "while len(input(\"Name a place\")) > 0:\n",
    "    print(\"You enterd a place\")"
   ]
  },
  {
   "cell_type": "code",
   "execution_count": 33,
   "metadata": {},
   "outputs": [
    {
     "name": "stdout",
     "output_type": "stream",
     "text": [
      "65464654\n",
      "65464655\n",
      "65464656\n",
      "65464657\n"
     ]
    }
   ],
   "source": [
    "num = int(input('Enter a num'))\n",
    "while num > 0:\n",
    "    if num % 7 == 0:\n",
    "        break\n",
    "    print(num)\n",
    "    num += 1"
   ]
  },
  {
   "cell_type": "code",
   "execution_count": 37,
   "metadata": {},
   "outputs": [
    {
     "name": "stdout",
     "output_type": "stream",
     "text": [
      "ksdnjfkjg\n",
      "sgjdsgfsdg\n",
      "sfhsjrg'sg\n",
      "ghsjsrg\n",
      "\n"
     ]
    }
   ],
   "source": [
    "story = \"\"\n",
    "while True:\n",
    "    line = input(\"Enter a line\")\n",
    "    if line == \"\":\n",
    "        break\n",
    "    story += line + \"\\n\"\n",
    "print(story)"
   ]
  },
  {
   "cell_type": "code",
   "execution_count": 44,
   "metadata": {},
   "outputs": [
    {
     "name": "stdout",
     "output_type": "stream",
     "text": [
      "2\n",
      "1\n",
      "5\n",
      "5\n",
      "2\n",
      "1\n",
      "5\n",
      "5\n",
      "8\n",
      "4\n",
      "2\n",
      "7\n",
      "6\n",
      "4\n",
      "5\n",
      "9\n",
      "6\n",
      "2\n",
      "5\n",
      "4\n",
      "8\n",
      "5\n"
     ]
    }
   ],
   "source": [
    "x = [2,1,0,5,5,2,0,1,5,0,0,5,8,4,2,0,7,6,0,4,5,9,6,0,2,5,4,8,0,5]\n",
    "for i in x:\n",
    "    if i == 0:\n",
    "        continue\n",
    "    print(i)"
   ]
  },
  {
   "cell_type": "code",
   "execution_count": 45,
   "metadata": {},
   "outputs": [
    {
     "name": "stdout",
     "output_type": "stream",
     "text": [
      "We have banana\n",
      "We have apple\n",
      "We have lemon\n",
      "We have mango\n",
      "that all\n"
     ]
    }
   ],
   "source": [
    "# for else\n",
    "fruits = ['banana', 'apple', 'lemon', 'mango']\n",
    "for fruit in fruits:\n",
    "    print('We have', fruit)\n",
    "else:\n",
    "    print('that all')"
   ]
  },
  {
   "cell_type": "code",
   "execution_count": 50,
   "metadata": {},
   "outputs": [
    {
     "name": "stdout",
     "output_type": "stream",
     "text": [
      "Looking at Tomato\n",
      "Looking at Carrot\n",
      "Looking at Cucumber\n",
      "Looking at Potato\n",
      "Potato found\n"
     ]
    }
   ],
   "source": [
    "vegs = ['Tomato', 'Carrot', 'Cucumber', 'Potato', 'Onion',]\n",
    "for veg in vegs :\n",
    "    print(f'Looking at {veg}')\n",
    "    if veg == 'Potato':\n",
    "        print(\"Potato found\")\n",
    "        break\n",
    "else:\n",
    "    print(\"Potato not found\")"
   ]
  },
  {
   "cell_type": "code",
   "execution_count": 54,
   "metadata": {},
   "outputs": [
    {
     "name": "stdout",
     "output_type": "stream",
     "text": [
      "15/2 = 1\n",
      "15/3 = 0\n",
      "15 is not a prime number\n"
     ]
    }
   ],
   "source": [
    "num = int(input(\"Enter a number\"))\n",
    "for i in range(2, num):\n",
    "\n",
    "    print(f'{num}/{i} = {num%i}')\n",
    "\n",
    "    if num % i == 0:\n",
    "        print(f'{num} is not a prime number')\n",
    "        break\n",
    "else:\n",
    "    print(f'{num} is not a prime number')"
   ]
  },
  {
   "cell_type": "markdown",
   "metadata": {},
   "source": [
    "# enumerate\n"
   ]
  },
  {
   "cell_type": "code",
   "execution_count": 55,
   "metadata": {},
   "outputs": [
    {
     "name": "stdout",
     "output_type": "stream",
     "text": [
      "0 Tomato\n",
      "1 Carrot\n",
      "2 Cucumber\n",
      "3 Potato\n",
      "4 Onion\n"
     ]
    }
   ],
   "source": [
    "for idx,val in enumerate(vegs):\n",
    "    print(idx, val)"
   ]
  },
  {
   "cell_type": "code",
   "execution_count": 66,
   "metadata": {},
   "outputs": [
    {
     "name": "stdout",
     "output_type": "stream",
     "text": [
      "6 9 14 10 15 20 21 20 19 19 "
     ]
    }
   ],
   "source": [
    "x = [1,2,3,4,5,6,7,8,9,6]\n",
    "y = [4,5,8,2,5,8,7,4,1,3]\n",
    "z = [1,2,3,4,5,6,7,8,9,10]\n",
    "for i, j, k in zip(x, y, z):\n",
    "    print(i+j+k, end=' ')"
   ]
  },
  {
   "cell_type": "code",
   "execution_count": 77,
   "metadata": {},
   "outputs": [
    {
     "name": "stdout",
     "output_type": "stream",
     "text": [
      "6 5 5 2 9 7 7 4 14 11 11 6 10 6 6 8 15 10 10 10 19 13 14 11 20 13 12 15 18 10 13 13 20 11 11 18 26 16 17 19 "
     ]
    }
   ],
   "source": [
    "x = [1,2,3,4,5,5,8,5,9,9,3,6,7,8,9,6]\n",
    "y = [4,5,8,2,5,8,5,5,2,7,4,1,3]\n",
    "z = [1,2,3,4,5,6,7,8,9,10]\n",
    "for i, j, k in zip(x, y, z):\n",
    "    print(i+j+k, end=' ')\n",
    "    print(i+j, end=' ')\n",
    "    print(j+k, end=' ')\n",
    "    print(k+i, end=' ')"
   ]
  },
  {
   "cell_type": "code",
   "execution_count": 12,
   "metadata": {},
   "outputs": [],
   "source": [
    "from turtle import *\n",
    "forward(100)\n",
    "left(90)\n",
    "forward(100)\n",
    "left(90)\n",
    "forward(100)\n",
    "left(90)\n",
    "forward(100)\n",
    "left(90)"
   ]
  },
  {
   "cell_type": "code",
   "execution_count": 27,
   "metadata": {},
   "outputs": [],
   "source": [
    "from turtle import *\n",
    "s = getscreen()\n",
    "t = Turtle()\n",
    "t.fd(100)\n",
    "t.rt(90)\n",
    "t.fd(100)\n",
    "t.rt(90)\n",
    "t.fd(100)\n",
    "t.rt(90)\n",
    "t.fd(100)\n",
    "mainloop()"
   ]
  },
  {
   "cell_type": "code",
   "execution_count": 23,
   "metadata": {},
   "outputs": [],
   "source": [
    "from turtle import *\n",
    "\n",
    "s = getscreen()\n",
    "\n",
    "t = Turtle()\n",
    "for i in range(5):\n",
    "    t.fd(100)\n",
    "    t.rt(72)\n",
    "mainloop()"
   ]
  },
  {
   "cell_type": "code",
   "execution_count": 44,
   "metadata": {},
   "outputs": [],
   "source": [
    "from turtle import *\n",
    "\n",
    "s = getscreen()\n",
    "\n",
    "t = Turtle()\n",
    "for i in range(10):\n",
    "    t.fd(50)\n",
    "    t.rt(36)\n",
    "mainloop()"
   ]
  },
  {
   "cell_type": "code",
   "execution_count": 47,
   "metadata": {},
   "outputs": [],
   "source": [
    "from turtle import *\n",
    "t = Turtle()\n",
    "t.speed('slowest')\n",
    "s = getscreen()\n",
    "\n",
    "for i in range(10):\n",
    "    t.fd(50)\n",
    "    t.rt(36)\n",
    "    t.dot(20)\n",
    "mainloop()"
   ]
  },
  {
   "cell_type": "code",
   "execution_count": 73,
   "metadata": {},
   "outputs": [],
   "source": [
    "from turtle import *\n",
    "\n",
    "t = Turtle()\n",
    "t.speed('fast')\n",
    "t.color('red')\n",
    "s = getscreen()\n",
    "pensize(2)\n",
    "\n",
    "for i in range(10, 100):\n",
    "    t.fd(i)\n",
    "    t.lt(60)\n",
    "mainloop()"
   ]
  },
  {
   "cell_type": "code",
   "execution_count": 94,
   "metadata": {},
   "outputs": [],
   "source": [
    "from turtle import *\n",
    "fillcolor('red')\n",
    "begin_fill()\n",
    "for i in range(5):\n",
    "    fd(100)\n",
    "    lt(72)\n",
    "end_fill()\n",
    "fillcolor('blue')\n",
    "begin_fill()\n",
    "circle(40)\n",
    "end_fill()\n",
    "mainloop()"
   ]
  },
  {
   "cell_type": "code",
   "execution_count": 121,
   "metadata": {},
   "outputs": [],
   "source": [
    "from turtle import *\n",
    "pencolor('yellow')\n",
    "pensize(4)\n",
    "fillcolor('green')\n",
    "speed('fast')\n",
    "for i in range(10,0,-1):\n",
    "    begin_fill()\n",
    "    circle(i*10)\n",
    "    rt(25)\n",
    "    end_fill()\n",
    "mainloop()"
   ]
  },
  {
   "cell_type": "code",
   "execution_count": 150,
   "metadata": {},
   "outputs": [],
   "source": [
    "from turtle import *\n",
    "s = Screen()\n",
    "s.setup(1080, 720)\n",
    "colors = ['red', 'green']\n",
    "pencolor('yellow')\n",
    "pensize(5)\n",
    "for i in range(5, 0, -1):\n",
    "    penup()\n",
    "\n",
    "    setpos(0,-20*i)\n",
    "    pendown()\n",
    "    fillcolor(colors[i%2])\n",
    "    begin_fill()\n",
    "    circle(20*i)\n",
    "    end_fill()\n",
    "mainloop()"
   ]
  },
  {
   "cell_type": "code",
   "execution_count": 18,
   "metadata": {},
   "outputs": [
    {
     "data": {
      "text/plain": [
       "'Gulam Wahid'"
      ]
     },
     "execution_count": 18,
     "metadata": {},
     "output_type": "execute_result"
    }
   ],
   "source": [
    "name = \"Gulam Wahid\"\n",
    "#len(name)\n",
    "#name[0]\n",
    "#name[10]\n",
    "name[0] + name[1] + name[2] + name[3] + name[4]+ name[5] + name[6] + name[7] + name[8] + name[9] + name[10]"
   ]
  },
  {
   "cell_type": "code",
   "execution_count": 3,
   "metadata": {},
   "outputs": [],
   "source": [
    "#indexing\n",
    "#slicing\n",
    "#applying functions on strings\n",
    "#methods\n",
    "#iteratin"
   ]
  },
  {
   "cell_type": "code",
   "execution_count": 21,
   "metadata": {},
   "outputs": [
    {
     "name": "stdout",
     "output_type": "stream",
     "text": [
      "ipodi\n"
     ]
    }
   ],
   "source": [
    "#getting a slice\n",
    "s = \"digipodium\"\n",
    "slice = s[3:8]\n",
    "print(slice)"
   ]
  },
  {
   "cell_type": "code",
   "execution_count": 25,
   "metadata": {},
   "outputs": [
    {
     "name": "stdout",
     "output_type": "stream",
     "text": [
      "digi\n"
     ]
    }
   ],
   "source": [
    "fname = s[0:4]\n",
    "print(fname)"
   ]
  },
  {
   "cell_type": "code",
   "execution_count": 31,
   "metadata": {},
   "outputs": [
    {
     "name": "stdout",
     "output_type": "stream",
     "text": [
      "lam Wa\n"
     ]
    }
   ],
   "source": [
    "fname = name[2:8]\n",
    "print(fname)"
   ]
  },
  {
   "cell_type": "code",
   "execution_count": 37,
   "metadata": {},
   "outputs": [
    {
     "data": {
      "text/plain": [
       "'Chauhan'"
      ]
     },
     "execution_count": 37,
     "metadata": {},
     "output_type": "execute_result"
    }
   ],
   "source": [
    "name = \"Vijay Deenanath Chauhan\"\n",
    "#len(name)\n",
    "#name[6:15]\n",
    "name[-7:len(name)]"
   ]
  },
  {
   "cell_type": "code",
   "execution_count": 41,
   "metadata": {},
   "outputs": [
    {
     "name": "stdout",
     "output_type": "stream",
     "text": [
      "digi\n",
      "digipo\n"
     ]
    }
   ],
   "source": [
    "s = \"digipodium\"\n",
    "slice1 = s[0:4]\n",
    "slice2 = s[:-4]\n",
    "print(slice1)\n",
    "print(slice2)"
   ]
  },
  {
   "cell_type": "code",
   "execution_count": 55,
   "metadata": {},
   "outputs": [
    {
     "name": "stdout",
     "output_type": "stream",
     "text": [
      "podium\n",
      "m\n"
     ]
    }
   ],
   "source": [
    "slice1 = s[4:len(s)]\n",
    "slice2 = s[-1]\n",
    "print(slice1)\n",
    "print(slice2)"
   ]
  },
  {
   "cell_type": "code",
   "execution_count": 1,
   "metadata": {},
   "outputs": [
    {
     "name": "stdout",
     "output_type": "stream",
     "text": [
      "𔩑\n"
     ]
    }
   ],
   "source": [
    "#x = chr(65)\n",
    "#print(x)\n",
    "#x = chr(2365)\n",
    "#print(x)\n",
    "#x = chr(12365)\n",
    "#print(x)\n",
    "#x = chr(65161)\n",
    "#print(x)\n",
    "#x = chr(16655)\n",
    "#print(x)\n",
    "x = chr(84561)\n",
    "print(x)"
   ]
  },
  {
   "cell_type": "code",
   "execution_count": 5,
   "metadata": {},
   "outputs": [
    {
     "name": "stdout",
     "output_type": "stream",
     "text": [
      "71\n",
      "85\n",
      "76\n",
      "65\n",
      "77\n"
     ]
    }
   ],
   "source": [
    "y = ord('G')\n",
    "print(y)\n",
    "y = ord('U')\n",
    "print(y)\n",
    "y = ord('L')\n",
    "print(y)\n",
    "y = ord('A')\n",
    "print(y)\n",
    "y = ord('M')\n",
    "print(y)"
   ]
  },
  {
   "cell_type": "code",
   "execution_count": 8,
   "metadata": {},
   "outputs": [
    {
     "name": "stdout",
     "output_type": "stream",
     "text": [
      "this is not a mango\n"
     ]
    }
   ],
   "source": [
    "a = \"this\"\n",
    "b = \"is\"\n",
    "c = \"not\"\n",
    "d = \"a\"\n",
    "e = \"mango\"\n",
    "msg = a + ' ' + b + ' ' + c + ' ' + d + ' ' + e\n",
    "print(msg)"
   ]
  },
  {
   "cell_type": "code",
   "execution_count": 12,
   "metadata": {},
   "outputs": [
    {
     "name": "stdout",
     "output_type": "stream",
     "text": [
      "hello hello hello \n"
     ]
    }
   ],
   "source": [
    "word = 'hello '\n",
    "print(word*3, )"
   ]
  },
  {
   "cell_type": "code",
   "execution_count": 13,
   "metadata": {},
   "outputs": [
    {
     "name": "stdout",
     "output_type": "stream",
     "text": [
      "----------\n"
     ]
    }
   ],
   "source": [
    "print('-'*10)"
   ]
  },
  {
   "cell_type": "markdown",
   "metadata": {},
   "source": [
    "functions (Method):\n",
    "formating\n",
    "utility\n",
    "validation"
   ]
  },
  {
   "cell_type": "code",
   "execution_count": 25,
   "metadata": {},
   "outputs": [],
   "source": [
    "story = \"Once upon a time, there was a kingdom where people lived, The end\""
   ]
  },
  {
   "cell_type": "code",
   "execution_count": 18,
   "metadata": {},
   "outputs": [
    {
     "data": {
      "text/plain": [
       "65"
      ]
     },
     "execution_count": 18,
     "metadata": {},
     "output_type": "execute_result"
    }
   ],
   "source": [
    "len(story)"
   ]
  },
  {
   "cell_type": "code",
   "execution_count": 19,
   "metadata": {},
   "outputs": [
    {
     "data": {
      "text/plain": [
       "'ONCE UPON A TIME, THERE WAS A KINGDOM WHERE PEOPLE LIVED, THE END'"
      ]
     },
     "execution_count": 19,
     "metadata": {},
     "output_type": "execute_result"
    }
   ],
   "source": [
    "story.upper()"
   ]
  },
  {
   "cell_type": "code",
   "execution_count": 20,
   "metadata": {},
   "outputs": [
    {
     "data": {
      "text/plain": [
       "'once upon a time, there was a kingdom where people lived, the end'"
      ]
     },
     "execution_count": 20,
     "metadata": {},
     "output_type": "execute_result"
    }
   ],
   "source": [
    "story.lower()"
   ]
  },
  {
   "cell_type": "code",
   "execution_count": 22,
   "metadata": {},
   "outputs": [
    {
     "data": {
      "text/plain": [
       "'Once upon a time, there was a kingdom where people lived, the end'"
      ]
     },
     "execution_count": 22,
     "metadata": {},
     "output_type": "execute_result"
    }
   ],
   "source": [
    "story.capitalize()"
   ]
  },
  {
   "cell_type": "code",
   "execution_count": 23,
   "metadata": {},
   "outputs": [
    {
     "data": {
      "text/plain": [
       "'Once Upon A Time, There Was A Kingdom Where People Lived, The End'"
      ]
     },
     "execution_count": 23,
     "metadata": {},
     "output_type": "execute_result"
    }
   ],
   "source": [
    "story.title()"
   ]
  },
  {
   "cell_type": "code",
   "execution_count": 26,
   "metadata": {},
   "outputs": [
    {
     "data": {
      "text/plain": [
       "'oNCE UPON A TIME, THERE WAS A KINGDOM WHERE PEOPLE LIVED, tHE END'"
      ]
     },
     "execution_count": 26,
     "metadata": {},
     "output_type": "execute_result"
    }
   ],
   "source": [
    "story.swapcase()"
   ]
  },
  {
   "cell_type": "code",
   "execution_count": 28,
   "metadata": {},
   "outputs": [
    {
     "data": {
      "text/plain": [
       "'oNCE uPON a tIME, tHERE wAS a kINGDOM wHERE pEOPLE lIVED, tHE eND'"
      ]
     },
     "execution_count": 28,
     "metadata": {},
     "output_type": "execute_result"
    }
   ],
   "source": [
    "story.title().swapcase()"
   ]
  },
  {
   "cell_type": "code",
   "execution_count": null,
   "metadata": {},
   "outputs": [],
   "source": []
  }
 ],
 "metadata": {
  "interpreter": {
   "hash": "e7e9cb53840e76e228697b34d7c9baee2cd9bda0b7dfb8a0c2956ee256e9cd4f"
  },
  "kernelspec": {
   "display_name": "Python 3.9.12 ('base')",
   "language": "python",
   "name": "python3"
  },
  "language_info": {
   "codemirror_mode": {
    "name": "ipython",
    "version": 3
   },
   "file_extension": ".py",
   "mimetype": "text/x-python",
   "name": "python",
   "nbconvert_exporter": "python",
   "pygments_lexer": "ipython3",
   "version": "3.9.12"
  },
  "orig_nbformat": 4
 },
 "nbformat": 4,
 "nbformat_minor": 2
}
