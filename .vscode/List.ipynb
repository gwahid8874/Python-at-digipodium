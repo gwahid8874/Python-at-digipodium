{
 "cells": [
  {
   "cell_type": "markdown",
   "metadata": {},
   "source": [
    "#Data Structure\n",
    "##List\n",
    "    - indexed structure\n",
    "    - "
   ]
  },
  {
   "cell_type": "code",
   "execution_count": 1,
   "metadata": {},
   "outputs": [],
   "source": [
    "movies = ['Jai ho', 'RRR', 'KGF', 'Avatar', 'ZNMD']"
   ]
  },
  {
   "cell_type": "code",
   "execution_count": 2,
   "metadata": {},
   "outputs": [
    {
     "data": {
      "text/plain": [
       "'Jai ho'"
      ]
     },
     "execution_count": 2,
     "metadata": {},
     "output_type": "execute_result"
    }
   ],
   "source": [
    "movies[0]"
   ]
  },
  {
   "cell_type": "code",
   "execution_count": 3,
   "metadata": {},
   "outputs": [
    {
     "data": {
      "text/plain": [
       "'KGF'"
      ]
     },
     "execution_count": 3,
     "metadata": {},
     "output_type": "execute_result"
    }
   ],
   "source": [
    "movies[2]"
   ]
  },
  {
   "cell_type": "code",
   "execution_count": 4,
   "metadata": {},
   "outputs": [
    {
     "data": {
      "text/plain": [
       "'ZNMD'"
      ]
     },
     "execution_count": 4,
     "metadata": {},
     "output_type": "execute_result"
    }
   ],
   "source": [
    "movies[-1]"
   ]
  },
  {
   "cell_type": "code",
   "execution_count": 5,
   "metadata": {},
   "outputs": [],
   "source": [
    "movies[1] = 'KGF2' #replace the value of the second element"
   ]
  },
  {
   "cell_type": "code",
   "execution_count": 6,
   "metadata": {},
   "outputs": [
    {
     "data": {
      "text/plain": [
       "['Jai ho', 'KGF2', 'KGF', 'Avatar', 'ZNMD']"
      ]
     },
     "execution_count": 6,
     "metadata": {},
     "output_type": "execute_result"
    }
   ],
   "source": [
    "movies"
   ]
  },
  {
   "cell_type": "code",
   "execution_count": 7,
   "metadata": {},
   "outputs": [
    {
     "data": {
      "text/plain": [
       "['Jai ho', 'KGF2']"
      ]
     },
     "execution_count": 7,
     "metadata": {},
     "output_type": "execute_result"
    }
   ],
   "source": [
    "movies[:2]"
   ]
  },
  {
   "cell_type": "code",
   "execution_count": 9,
   "metadata": {},
   "outputs": [
    {
     "data": {
      "text/plain": [
       "['Avatar', 'ZNMD']"
      ]
     },
     "execution_count": 9,
     "metadata": {},
     "output_type": "execute_result"
    }
   ],
   "source": [
    "movies[-2:]"
   ]
  },
  {
   "cell_type": "code",
   "execution_count": 11,
   "metadata": {},
   "outputs": [
    {
     "data": {
      "text/plain": [
       "['KGF2', 'Avatar']"
      ]
     },
     "execution_count": 11,
     "metadata": {},
     "output_type": "execute_result"
    }
   ],
   "source": [
    "movies[1::2] #every second element (odd index)"
   ]
  },
  {
   "cell_type": "code",
   "execution_count": 13,
   "metadata": {},
   "outputs": [
    {
     "data": {
      "text/plain": [
       "['ZNMD', 'Avatar', 'KGF', 'KGF2', 'Jai ho']"
      ]
     },
     "execution_count": 13,
     "metadata": {},
     "output_type": "execute_result"
    }
   ],
   "source": [
    "movies[::-1] #reverse the list #for job"
   ]
  },
  {
   "cell_type": "code",
   "execution_count": 15,
   "metadata": {},
   "outputs": [
    {
     "name": "stdout",
     "output_type": "stream",
     "text": [
      "I have watched Jai ho\n",
      "I have watched KGF2\n",
      "I have watched KGF\n",
      "I have watched Avatar\n",
      "I have watched ZNMD\n"
     ]
    }
   ],
   "source": [
    "for movie in movies:\n",
    "    print(\"I have watched \"+movie)"
   ]
  },
  {
   "cell_type": "markdown",
   "metadata": {},
   "source": [
    "function and operations on list\n"
   ]
  },
  {
   "cell_type": "code",
   "execution_count": 16,
   "metadata": {},
   "outputs": [
    {
     "name": "stdout",
     "output_type": "stream",
     "text": [
      "[1, 1, 1, 1, 1, 1, 1, 1, 1, 1, 1, 1, 1, 1, 1, 1, 1, 1, 1, 1, 1, 1, 1, 1, 1, 1, 1, 1, 1, 1, 1, 1, 1, 1, 1, 1, 1, 1, 1, 1, 1, 1, 1, 1, 1, 1, 1, 1, 1, 1]\n"
     ]
    }
   ],
   "source": [
    "#duplicate\n",
    "x = [1] * 50\n",
    "print(x)"
   ]
  },
  {
   "cell_type": "code",
   "execution_count": 19,
   "metadata": {},
   "outputs": [
    {
     "name": "stdout",
     "output_type": "stream",
     "text": [
      "[1, 2, 3, 1, 2, 3, 1, 2, 3, 1, 2, 3, 1, 2, 3, 1, 2, 3, 1, 2, 3, 1, 2, 3, 1, 2, 3, 1, 2, 3]\n"
     ]
    }
   ],
   "source": [
    "x = [1,2,3] * 10\n",
    "print(x)"
   ]
  },
  {
   "cell_type": "code",
   "execution_count": 20,
   "metadata": {},
   "outputs": [
    {
     "data": {
      "text/plain": [
       "[1, 2, 3, 4, 5, 6, 7, 8, 9, 10]"
      ]
     },
     "execution_count": 20,
     "metadata": {},
     "output_type": "execute_result"
    }
   ],
   "source": [
    "x = [1,2,3,4,5]\n",
    "y = [6,7,8,9,10]\n",
    "x+y"
   ]
  },
  {
   "cell_type": "code",
   "execution_count": 21,
   "metadata": {},
   "outputs": [
    {
     "ename": "TypeError",
     "evalue": "unsupported operand type(s) for -: 'list' and 'list'",
     "output_type": "error",
     "traceback": [
      "\u001b[1;31m---------------------------------------------------------------------------\u001b[0m",
      "\u001b[1;31mTypeError\u001b[0m                                 Traceback (most recent call last)",
      "\u001b[1;32mc:\\Users\\ankit\\Downloads\\Hello\\Hello\\.vscode\\List.ipynb Cell 17'\u001b[0m in \u001b[0;36m<cell line: 3>\u001b[1;34m()\u001b[0m\n\u001b[0;32m      <a href='vscode-notebook-cell:/c%3A/Users/ankit/Downloads/Hello/Hello/.vscode/List.ipynb#ch0000020?line=0'>1</a>\u001b[0m x \u001b[39m=\u001b[39m [\u001b[39m1\u001b[39m,\u001b[39m2\u001b[39m,\u001b[39m3\u001b[39m,\u001b[39m4\u001b[39m,\u001b[39m5\u001b[39m]\n\u001b[0;32m      <a href='vscode-notebook-cell:/c%3A/Users/ankit/Downloads/Hello/Hello/.vscode/List.ipynb#ch0000020?line=1'>2</a>\u001b[0m y \u001b[39m=\u001b[39m [\u001b[39m6\u001b[39m,\u001b[39m7\u001b[39m,\u001b[39m8\u001b[39m,\u001b[39m9\u001b[39m,\u001b[39m10\u001b[39m]\n\u001b[1;32m----> <a href='vscode-notebook-cell:/c%3A/Users/ankit/Downloads/Hello/Hello/.vscode/List.ipynb#ch0000020?line=2'>3</a>\u001b[0m x \u001b[39m-\u001b[39;49m y\n",
      "\u001b[1;31mTypeError\u001b[0m: unsupported operand type(s) for -: 'list' and 'list'"
     ]
    }
   ],
   "source": [
    "x = [1,2,3,4,5]\n",
    "y = [6,7,8,9,10]\n",
    "x - y"
   ]
  },
  {
   "cell_type": "code",
   "execution_count": 22,
   "metadata": {},
   "outputs": [],
   "source": [
    "z = [2,1,5,4,2,5,6,9,8,7,1,2,5,4,1,2,5,6]\n"
   ]
  },
  {
   "cell_type": "code",
   "execution_count": 23,
   "metadata": {},
   "outputs": [
    {
     "data": {
      "text/plain": [
       "[1, 1, 1, 2, 2, 2, 2, 4, 4, 5, 5, 5, 5, 6, 6, 7, 8, 9]"
      ]
     },
     "execution_count": 23,
     "metadata": {},
     "output_type": "execute_result"
    }
   ],
   "source": [
    "sorted(z)"
   ]
  },
  {
   "cell_type": "code",
   "execution_count": 24,
   "metadata": {},
   "outputs": [
    {
     "data": {
      "text/plain": [
       "['Avatar', 'Jai ho', 'KGF', 'KGF2', 'ZNMD']"
      ]
     },
     "execution_count": 24,
     "metadata": {},
     "output_type": "execute_result"
    }
   ],
   "source": [
    "sorted(movies)"
   ]
  },
  {
   "cell_type": "code",
   "execution_count": 25,
   "metadata": {},
   "outputs": [
    {
     "data": {
      "text/plain": [
       "9"
      ]
     },
     "execution_count": 25,
     "metadata": {},
     "output_type": "execute_result"
    }
   ],
   "source": [
    "max(z)"
   ]
  },
  {
   "cell_type": "code",
   "execution_count": 26,
   "metadata": {},
   "outputs": [
    {
     "data": {
      "text/plain": [
       "1"
      ]
     },
     "execution_count": 26,
     "metadata": {},
     "output_type": "execute_result"
    }
   ],
   "source": [
    "min(z)"
   ]
  },
  {
   "cell_type": "code",
   "execution_count": 27,
   "metadata": {},
   "outputs": [
    {
     "data": {
      "text/plain": [
       "18"
      ]
     },
     "execution_count": 27,
     "metadata": {},
     "output_type": "execute_result"
    }
   ],
   "source": [
    "len(z)"
   ]
  },
  {
   "cell_type": "code",
   "execution_count": 28,
   "metadata": {},
   "outputs": [
    {
     "data": {
      "text/plain": [
       "75"
      ]
     },
     "execution_count": 28,
     "metadata": {},
     "output_type": "execute_result"
    }
   ],
   "source": [
    "sum(z)"
   ]
  },
  {
   "cell_type": "code",
   "execution_count": 29,
   "metadata": {},
   "outputs": [
    {
     "data": {
      "text/plain": [
       "['m', 'a', 'n', 'i', 'k', 'c', 'h', 'a', 'n', 'd']"
      ]
     },
     "execution_count": 29,
     "metadata": {},
     "output_type": "execute_result"
    }
   ],
   "source": [
    "list(\"manikchand\")"
   ]
  },
  {
   "cell_type": "code",
   "execution_count": 30,
   "metadata": {},
   "outputs": [
    {
     "data": {
      "text/plain": [
       "['a', 'a', 'c', 'd', 'h', 'i', 'k', 'm', 'n', 'n']"
      ]
     },
     "execution_count": 30,
     "metadata": {},
     "output_type": "execute_result"
    }
   ],
   "source": [
    "list = ['m', 'a', 'n', 'i', 'k', 'c', 'h', 'a', 'n', 'd']\n",
    "sorted(list)"
   ]
  },
  {
   "cell_type": "markdown",
   "metadata": {},
   "source": [
    "Method of list\n",
    "- adding items in list\n",
    "    - append()👍\n",
    "    - insert()👍\n",
    "    - extend()👍\n",
    "- removing itemes from list\n",
    "    - pop()👍\n",
    "    - remove()👍\n",
    "    - clear()👍\n",
    "- utility function\n",
    "    - sort()\n",
    "    - reverse()\n",
    "    - index()\n",
    "    - count()\n",
    "    - copy()"
   ]
  },
  {
   "cell_type": "code",
   "execution_count": 77,
   "metadata": {},
   "outputs": [],
   "source": [
    "books = ['The final empire',\n",
    "        'NCERT',\n",
    "        'UP Board',\n",
    "        'CBSE Board',\n",
    "        'SSC Haryana',\n",
    "        'UPSSSC',\n",
    "        'IBPS RRB Agri',\n",
    "        'SBI PO',\n",
    "        'RRB Marketing',\n",
    "        'SSC CHSL',\n",
    "        'SSC CGL',\n",
    "        'JAIIB',\n",
    "        'MBA Enterance',\n",
    "        'UPPPPSSSSCCC']\n",
    "        "
   ]
  },
  {
   "cell_type": "code",
   "execution_count": 78,
   "metadata": {},
   "outputs": [],
   "source": [
    "books.append(\"NRA CET\")"
   ]
  },
  {
   "cell_type": "code",
   "execution_count": 79,
   "metadata": {},
   "outputs": [
    {
     "data": {
      "text/plain": [
       "['The final empire',\n",
       " 'NCERT',\n",
       " 'UP Board',\n",
       " 'CBSE Board',\n",
       " 'SSC Haryana',\n",
       " 'UPSSSC',\n",
       " 'IBPS RRB Agri',\n",
       " 'SBI PO',\n",
       " 'RRB Marketing',\n",
       " 'SSC CHSL',\n",
       " 'SSC CGL',\n",
       " 'JAIIB',\n",
       " 'MBA Enterance',\n",
       " 'UPPPPSSSSCCC',\n",
       " 'NRA CET']"
      ]
     },
     "execution_count": 79,
     "metadata": {},
     "output_type": "execute_result"
    }
   ],
   "source": [
    "books"
   ]
  },
  {
   "cell_type": "code",
   "execution_count": 80,
   "metadata": {},
   "outputs": [],
   "source": [
    "books.append('NRA CET Easy')\n",
    "books.append('NRA CET Med')\n",
    "books.append('NRA CET Hard')"
   ]
  },
  {
   "cell_type": "code",
   "execution_count": 82,
   "metadata": {},
   "outputs": [
    {
     "name": "stdout",
     "output_type": "stream",
     "text": [
      "['The final empire', 'NCERT', 'UP Board', 'CBSE Board', 'SSC Haryana', 'UPSSSC', 'IBPS RRB Agri', 'SBI PO', 'RRB Marketing', 'SSC CHSL', 'SSC CGL', 'JAIIB', 'MBA Enterance', 'UPPPPSSSSCCC', 'NRA CET', 'NRA CET Easy', 'NRA CET Med', 'NRA CET Hard']\n"
     ]
    }
   ],
   "source": [
    "print(books)"
   ]
  },
  {
   "cell_type": "code",
   "execution_count": 83,
   "metadata": {},
   "outputs": [
    {
     "data": {
      "text/plain": [
       "18"
      ]
     },
     "execution_count": 83,
     "metadata": {},
     "output_type": "execute_result"
    }
   ],
   "source": [
    "len(books)"
   ]
  },
  {
   "cell_type": "code",
   "execution_count": 84,
   "metadata": {},
   "outputs": [],
   "source": [
    "books.append('1')\n",
    "books.append('2')\n",
    "books.append('true book')"
   ]
  },
  {
   "cell_type": "code",
   "execution_count": 106,
   "metadata": {},
   "outputs": [
    {
     "name": "stdout",
     "output_type": "stream",
     "text": [
      "['The final empire', 'NCERT', 'UP Board', 'CBSE Board', 'SSC Haryana', 'UP Police Constable', 'UPSSSC', 'IBPS RRB Agri', 'SBI PO', 'RRB Marketing', 'SSC CHSL', 'SSC CGL', 'JAIIB', 'MBA Enterance', 'UPPPPSSSSCCC', 'Haryana Constable', 'NRA CET', 'NRA CET Easy', 'NRA CET Med', 'NRA CET Hard', '1', 'MP Police Constable', '2', 'true book', 'Tretoril Army', 'LLB', 'LLB Law', 'LLB Entrence', 'SSC Haryana', 'RJ Patwari', 'RJ Canal']\n"
     ]
    }
   ],
   "source": [
    "print(books)"
   ]
  },
  {
   "cell_type": "code",
   "execution_count": 86,
   "metadata": {},
   "outputs": [
    {
     "name": "stdout",
     "output_type": "stream",
     "text": [
      "['The final empire', 'NCERT', 'UP Board', 'CBSE Board', 'SSC Haryana', 'UPSSSC', 'IBPS RRB Agri', 'SBI PO', 'RRB Marketing', 'SSC CHSL', 'SSC CGL', 'JAIIB', 'MBA Enterance', 'UPPPPSSSSCCC', 'NRA CET', 'NRA CET Easy', 'NRA CET Med', 'NRA CET Hard', '1', '2', 'true book']\n"
     ]
    }
   ],
   "source": [
    "print(books)"
   ]
  },
  {
   "cell_type": "code",
   "execution_count": 87,
   "metadata": {},
   "outputs": [
    {
     "data": {
      "text/plain": [
       "21"
      ]
     },
     "execution_count": 87,
     "metadata": {},
     "output_type": "execute_result"
    }
   ],
   "source": [
    "len(books)"
   ]
  },
  {
   "cell_type": "code",
   "execution_count": 88,
   "metadata": {},
   "outputs": [],
   "source": [
    "books.append('Tretoril Army')"
   ]
  },
  {
   "cell_type": "code",
   "execution_count": 89,
   "metadata": {},
   "outputs": [
    {
     "name": "stdout",
     "output_type": "stream",
     "text": [
      "['The final empire', 'NCERT', 'UP Board', 'CBSE Board', 'SSC Haryana', 'UPSSSC', 'IBPS RRB Agri', 'SBI PO', 'RRB Marketing', 'SSC CHSL', 'SSC CGL', 'JAIIB', 'MBA Enterance', 'UPPPPSSSSCCC', 'NRA CET', 'NRA CET Easy', 'NRA CET Med', 'NRA CET Hard', '1', '2', 'true book', 'Tretoril Army']\n"
     ]
    }
   ],
   "source": [
    "print(books)"
   ]
  },
  {
   "cell_type": "code",
   "execution_count": 90,
   "metadata": {},
   "outputs": [],
   "source": [
    "books.insert(5, 'UP Police Constable')"
   ]
  },
  {
   "cell_type": "code",
   "execution_count": 91,
   "metadata": {},
   "outputs": [
    {
     "name": "stdout",
     "output_type": "stream",
     "text": [
      "['The final empire', 'NCERT', 'UP Board', 'CBSE Board', 'SSC Haryana', 'UP Police Constable', 'UPSSSC', 'IBPS RRB Agri', 'SBI PO', 'RRB Marketing', 'SSC CHSL', 'SSC CGL', 'JAIIB', 'MBA Enterance', 'UPPPPSSSSCCC', 'NRA CET', 'NRA CET Easy', 'NRA CET Med', 'NRA CET Hard', '1', '2', 'true book', 'Tretoril Army']\n"
     ]
    }
   ],
   "source": [
    "print(books)"
   ]
  },
  {
   "cell_type": "code",
   "execution_count": 92,
   "metadata": {},
   "outputs": [],
   "source": [
    "books.insert(15, 'Haryana Constable')"
   ]
  },
  {
   "cell_type": "code",
   "execution_count": 93,
   "metadata": {},
   "outputs": [
    {
     "name": "stdout",
     "output_type": "stream",
     "text": [
      "['The final empire', 'NCERT', 'UP Board', 'CBSE Board', 'SSC Haryana', 'UP Police Constable', 'UPSSSC', 'IBPS RRB Agri', 'SBI PO', 'RRB Marketing', 'SSC CHSL', 'SSC CGL', 'JAIIB', 'MBA Enterance', 'UPPPPSSSSCCC', 'Haryana Constable', 'NRA CET', 'NRA CET Easy', 'NRA CET Med', 'NRA CET Hard', '1', '2', 'true book', 'Tretoril Army']\n"
     ]
    }
   ],
   "source": [
    "print(books)"
   ]
  },
  {
   "cell_type": "code",
   "execution_count": 94,
   "metadata": {},
   "outputs": [],
   "source": [
    "books.insert(-3, 'MP Police Constable')"
   ]
  },
  {
   "cell_type": "code",
   "execution_count": 95,
   "metadata": {},
   "outputs": [
    {
     "name": "stdout",
     "output_type": "stream",
     "text": [
      "['The final empire', 'NCERT', 'UP Board', 'CBSE Board', 'SSC Haryana', 'UP Police Constable', 'UPSSSC', 'IBPS RRB Agri', 'SBI PO', 'RRB Marketing', 'SSC CHSL', 'SSC CGL', 'JAIIB', 'MBA Enterance', 'UPPPPSSSSCCC', 'Haryana Constable', 'NRA CET', 'NRA CET Easy', 'NRA CET Med', 'NRA CET Hard', '1', 'MP Police Constable', '2', 'true book', 'Tretoril Army']\n"
     ]
    }
   ],
   "source": [
    "print(books)"
   ]
  },
  {
   "cell_type": "code",
   "execution_count": 96,
   "metadata": {},
   "outputs": [
    {
     "data": {
      "text/plain": [
       "25"
      ]
     },
     "execution_count": 96,
     "metadata": {},
     "output_type": "execute_result"
    }
   ],
   "source": [
    "len(books)"
   ]
  },
  {
   "cell_type": "code",
   "execution_count": 97,
   "metadata": {},
   "outputs": [],
   "source": [
    "unsold_book = ['LLB', 'LLB Law', 'LLB Entrence']"
   ]
  },
  {
   "cell_type": "code",
   "execution_count": 98,
   "metadata": {},
   "outputs": [],
   "source": [
    "books.extend(unsold_book)"
   ]
  },
  {
   "cell_type": "code",
   "execution_count": 99,
   "metadata": {},
   "outputs": [
    {
     "name": "stdout",
     "output_type": "stream",
     "text": [
      "['The final empire', 'NCERT', 'UP Board', 'CBSE Board', 'SSC Haryana', 'UP Police Constable', 'UPSSSC', 'IBPS RRB Agri', 'SBI PO', 'RRB Marketing', 'SSC CHSL', 'SSC CGL', 'JAIIB', 'MBA Enterance', 'UPPPPSSSSCCC', 'Haryana Constable', 'NRA CET', 'NRA CET Easy', 'NRA CET Med', 'NRA CET Hard', '1', 'MP Police Constable', '2', 'true book', 'Tretoril Army', 'LLB', 'LLB Law', 'LLB Entrence']\n"
     ]
    }
   ],
   "source": [
    "print(books)"
   ]
  },
  {
   "cell_type": "code",
   "execution_count": 132,
   "metadata": {},
   "outputs": [
    {
     "data": {
      "text/plain": [
       "[]"
      ]
     },
     "execution_count": 132,
     "metadata": {},
     "output_type": "execute_result"
    }
   ],
   "source": [
    "books.copy()"
   ]
  },
  {
   "cell_type": "code",
   "execution_count": 109,
   "metadata": {},
   "outputs": [],
   "source": [
    "books.extend(['SSC Haryana', 'RJ Patwari', 'RJ Canal','10','112'])"
   ]
  },
  {
   "cell_type": "code",
   "execution_count": 110,
   "metadata": {},
   "outputs": [
    {
     "name": "stdout",
     "output_type": "stream",
     "text": [
      "['The final empire', 'NCERT', 'UP Board', 'CBSE Board', 'SSC Haryana', 'UP Police Constable', 'UPSSSC', 'IBPS RRB Agri', 'SBI PO', 'RRB Marketing', 'SSC CHSL', 'SSC CGL', 'JAIIB', 'MBA Enterance', 'UPPPPSSSSCCC', 'Haryana Constable', 'NRA CET', 'NRA CET Easy', 'NRA CET Med', 'NRA CET Hard', '1', 'MP Police Constable', '2', 'true book', 'Tretoril Army', 'LLB', 'LLB Law', 'LLB Entrence', 'SSC Haryana', 'RJ Patwari', 'RJ Canal', 'SSC Haryana', 'RJ Patwari', 'RJ Canal', '10', '112']\n"
     ]
    }
   ],
   "source": [
    "print(books)\n"
   ]
  },
  {
   "cell_type": "code",
   "execution_count": 111,
   "metadata": {},
   "outputs": [
    {
     "data": {
      "text/plain": [
       "36"
      ]
     },
     "execution_count": 111,
     "metadata": {},
     "output_type": "execute_result"
    }
   ],
   "source": [
    "len(books)"
   ]
  },
  {
   "cell_type": "code",
   "execution_count": 112,
   "metadata": {},
   "outputs": [],
   "source": [
    "books.remove('MBA Enterance')"
   ]
  },
  {
   "cell_type": "code",
   "execution_count": 113,
   "metadata": {},
   "outputs": [
    {
     "name": "stdout",
     "output_type": "stream",
     "text": [
      "['The final empire', 'NCERT', 'UP Board', 'CBSE Board', 'SSC Haryana', 'UP Police Constable', 'UPSSSC', 'IBPS RRB Agri', 'SBI PO', 'RRB Marketing', 'SSC CHSL', 'SSC CGL', 'JAIIB', 'UPPPPSSSSCCC', 'Haryana Constable', 'NRA CET', 'NRA CET Easy', 'NRA CET Med', 'NRA CET Hard', '1', 'MP Police Constable', '2', 'true book', 'Tretoril Army', 'LLB', 'LLB Law', 'LLB Entrence', 'SSC Haryana', 'RJ Patwari', 'RJ Canal', 'SSC Haryana', 'RJ Patwari', 'RJ Canal', '10', '112']\n"
     ]
    }
   ],
   "source": [
    "print(books)"
   ]
  },
  {
   "cell_type": "code",
   "execution_count": 114,
   "metadata": {},
   "outputs": [],
   "source": [
    "remove_val = 'UPPPPSSSSCCC'\n",
    "if remove_val in books:\n",
    "    books.remove(remove_val)"
   ]
  },
  {
   "cell_type": "code",
   "execution_count": 115,
   "metadata": {},
   "outputs": [
    {
     "name": "stdout",
     "output_type": "stream",
     "text": [
      "['The final empire', 'NCERT', 'UP Board', 'CBSE Board', 'SSC Haryana', 'UP Police Constable', 'UPSSSC', 'IBPS RRB Agri', 'SBI PO', 'RRB Marketing', 'SSC CHSL', 'SSC CGL', 'JAIIB', 'Haryana Constable', 'NRA CET', 'NRA CET Easy', 'NRA CET Med', 'NRA CET Hard', '1', 'MP Police Constable', '2', 'true book', 'Tretoril Army', 'LLB', 'LLB Law', 'LLB Entrence', 'SSC Haryana', 'RJ Patwari', 'RJ Canal', 'SSC Haryana', 'RJ Patwari', 'RJ Canal', '10', '112']\n"
     ]
    }
   ],
   "source": [
    "print(books)"
   ]
  },
  {
   "cell_type": "code",
   "execution_count": 116,
   "metadata": {},
   "outputs": [
    {
     "name": "stdout",
     "output_type": "stream",
     "text": [
      "CCCSSSSPPPPPU is not in list\n"
     ]
    }
   ],
   "source": [
    "remove_val = 'CCCSSSSPPPPPU'\n",
    "if remove_val in books:\n",
    "    books.remove(remove_val)\n",
    "else:\n",
    "    print(remove_val + \" is not in list\")"
   ]
  },
  {
   "cell_type": "code",
   "execution_count": 118,
   "metadata": {},
   "outputs": [
    {
     "name": "stdout",
     "output_type": "stream",
     "text": [
      "ABCD nhi h list me\n"
     ]
    }
   ],
   "source": [
    "remove_val = 'ABCD'\n",
    "if remove_val in books:\n",
    "    books.remove(remove_val)\n",
    "else:\n",
    "    print(remove_val + ' nhi h list me')"
   ]
  },
  {
   "cell_type": "code",
   "execution_count": 119,
   "metadata": {},
   "outputs": [
    {
     "name": "stdout",
     "output_type": "stream",
     "text": [
      "['The final empire', 'NCERT', 'UP Board', 'CBSE Board', 'SSC Haryana', 'UP Police Constable', 'UPSSSC', 'IBPS RRB Agri', 'SBI PO', 'RRB Marketing', 'SSC CHSL', 'SSC CGL', 'JAIIB', 'Haryana Constable', 'NRA CET Easy', 'NRA CET Med', 'NRA CET Hard', '1', 'MP Police Constable', '2', 'true book', 'Tretoril Army', 'LLB', 'LLB Law', 'LLB Entrence', 'SSC Haryana', 'RJ Patwari', 'RJ Canal', 'SSC Haryana', 'RJ Patwari', 'RJ Canal', '10', '112']\n"
     ]
    }
   ],
   "source": [
    "books.remove('NRA CET')\n",
    "print(books)"
   ]
  },
  {
   "cell_type": "code",
   "execution_count": 120,
   "metadata": {},
   "outputs": [
    {
     "data": {
      "text/plain": [
       "'RJ Canal'"
      ]
     },
     "execution_count": 120,
     "metadata": {},
     "output_type": "execute_result"
    }
   ],
   "source": [
    "books.pop(-3)"
   ]
  },
  {
   "cell_type": "code",
   "execution_count": 121,
   "metadata": {},
   "outputs": [
    {
     "name": "stdout",
     "output_type": "stream",
     "text": [
      "['The final empire', 'NCERT', 'UP Board', 'CBSE Board', 'SSC Haryana', 'UP Police Constable', 'UPSSSC', 'IBPS RRB Agri', 'SBI PO', 'RRB Marketing', 'SSC CHSL', 'SSC CGL', 'JAIIB', 'Haryana Constable', 'NRA CET Easy', 'NRA CET Med', 'NRA CET Hard', '1', 'MP Police Constable', '2', 'true book', 'Tretoril Army', 'LLB', 'LLB Law', 'LLB Entrence', 'SSC Haryana', 'RJ Patwari', 'RJ Canal', 'SSC Haryana', 'RJ Patwari', '10', '112']\n"
     ]
    }
   ],
   "source": [
    "print(books)"
   ]
  },
  {
   "cell_type": "code",
   "execution_count": 125,
   "metadata": {},
   "outputs": [
    {
     "data": {
      "text/plain": [
       "'SSC Haryana'"
      ]
     },
     "execution_count": 125,
     "metadata": {},
     "output_type": "execute_result"
    }
   ],
   "source": [
    "books.pop()\n"
   ]
  },
  {
   "cell_type": "code",
   "execution_count": 126,
   "metadata": {},
   "outputs": [
    {
     "name": "stdout",
     "output_type": "stream",
     "text": [
      "['The final empire', 'NCERT', 'UP Board', 'CBSE Board', 'SSC Haryana', 'UP Police Constable', 'UPSSSC', 'IBPS RRB Agri', 'SBI PO', 'RRB Marketing', 'SSC CHSL', 'SSC CGL', 'JAIIB', 'Haryana Constable', 'NRA CET Easy', 'NRA CET Med', 'NRA CET Hard', '1', 'MP Police Constable', '2', 'true book', 'Tretoril Army', 'LLB', 'LLB Law', 'LLB Entrence', 'SSC Haryana', 'RJ Patwari', 'RJ Canal']\n"
     ]
    }
   ],
   "source": [
    "print(books)"
   ]
  },
  {
   "cell_type": "code",
   "execution_count": 127,
   "metadata": {},
   "outputs": [
    {
     "data": {
      "text/plain": [
       "'LLB Law'"
      ]
     },
     "execution_count": 127,
     "metadata": {},
     "output_type": "execute_result"
    }
   ],
   "source": [
    "books.pop(-5)"
   ]
  },
  {
   "cell_type": "code",
   "execution_count": 128,
   "metadata": {},
   "outputs": [
    {
     "name": "stdout",
     "output_type": "stream",
     "text": [
      "['The final empire', 'NCERT', 'UP Board', 'CBSE Board', 'SSC Haryana', 'UP Police Constable', 'UPSSSC', 'IBPS RRB Agri', 'SBI PO', 'RRB Marketing', 'SSC CHSL', 'SSC CGL', 'JAIIB', 'Haryana Constable', 'NRA CET Easy', 'NRA CET Med', 'NRA CET Hard', '1', 'MP Police Constable', '2', 'true book', 'Tretoril Army', 'LLB', 'LLB Entrence', 'SSC Haryana', 'RJ Patwari', 'RJ Canal']\n"
     ]
    }
   ],
   "source": [
    "print(books)"
   ]
  },
  {
   "cell_type": "code",
   "execution_count": 129,
   "metadata": {},
   "outputs": [
    {
     "data": {
      "text/plain": [
       "27"
      ]
     },
     "execution_count": 129,
     "metadata": {},
     "output_type": "execute_result"
    }
   ],
   "source": [
    "len(books)"
   ]
  },
  {
   "cell_type": "code",
   "execution_count": 134,
   "metadata": {},
   "outputs": [
    {
     "name": "stdout",
     "output_type": "stream",
     "text": [
      "[] Nothing in list\n"
     ]
    }
   ],
   "source": [
    "books.clear()\n",
    "print(books, 'Nothing in list')"
   ]
  },
  {
   "cell_type": "code",
   "execution_count": 143,
   "metadata": {},
   "outputs": [],
   "source": [
    "y = [15, 56, 465, 45, 541, 445, 126, 44, 78, 100]"
   ]
  },
  {
   "cell_type": "code",
   "execution_count": 144,
   "metadata": {},
   "outputs": [],
   "source": [
    "y.sort()"
   ]
  },
  {
   "cell_type": "code",
   "execution_count": 145,
   "metadata": {},
   "outputs": [],
   "source": [
    "y.sort(reverse=True)"
   ]
  },
  {
   "cell_type": "code",
   "execution_count": 146,
   "metadata": {},
   "outputs": [],
   "source": [
    "fruits = ['Apple', 'Banana', 'orange', 'mango', 'Grapes']"
   ]
  },
  {
   "cell_type": "code",
   "execution_count": 148,
   "metadata": {},
   "outputs": [],
   "source": [
    "fruits.sort()"
   ]
  },
  {
   "cell_type": "code",
   "execution_count": 149,
   "metadata": {},
   "outputs": [],
   "source": [
    "fruits.sort(reverse=True)"
   ]
  },
  {
   "cell_type": "code",
   "execution_count": 150,
   "metadata": {},
   "outputs": [],
   "source": [
    "fruits.sort(reverse=False)"
   ]
  },
  {
   "cell_type": "code",
   "execution_count": 154,
   "metadata": {},
   "outputs": [],
   "source": [
    "x = [1,2,3,4,1,1,2,3,4,1,2,3,4,3,2,4,2,12]"
   ]
  },
  {
   "cell_type": "code",
   "execution_count": 155,
   "metadata": {},
   "outputs": [
    {
     "data": {
      "text/plain": [
       "4"
      ]
     },
     "execution_count": 155,
     "metadata": {},
     "output_type": "execute_result"
    }
   ],
   "source": [
    "x.count(1)"
   ]
  },
  {
   "cell_type": "code",
   "execution_count": 160,
   "metadata": {},
   "outputs": [],
   "source": [
    "z = [23, 25, 46, 84, 56, 78, 12, 49, 75, 25]"
   ]
  },
  {
   "cell_type": "code",
   "execution_count": 168,
   "metadata": {},
   "outputs": [
    {
     "data": {
      "text/plain": [
       "0"
      ]
     },
     "execution_count": 168,
     "metadata": {},
     "output_type": "execute_result"
    }
   ],
   "source": [
    "z.index(23) #get the index which is 0"
   ]
  },
  {
   "cell_type": "code",
   "execution_count": 159,
   "metadata": {},
   "outputs": [
    {
     "data": {
      "text/plain": [
       "3"
      ]
     },
     "execution_count": 159,
     "metadata": {},
     "output_type": "execute_result"
    }
   ],
   "source": [
    "z.index(84) #get the index"
   ]
  },
  {
   "cell_type": "code",
   "execution_count": 166,
   "metadata": {},
   "outputs": [
    {
     "data": {
      "text/plain": [
       "9"
      ]
     },
     "execution_count": 166,
     "metadata": {},
     "output_type": "execute_result"
    }
   ],
   "source": [
    "z.index(25, 2)"
   ]
  },
  {
   "cell_type": "code",
   "execution_count": 167,
   "metadata": {},
   "outputs": [
    {
     "ename": "ValueError",
     "evalue": "101 is not in list",
     "output_type": "error",
     "traceback": [
      "\u001b[1;31m---------------------------------------------------------------------------\u001b[0m",
      "\u001b[1;31mValueError\u001b[0m                                Traceback (most recent call last)",
      "\u001b[1;32mc:\\Users\\ankit\\Downloads\\Hello\\Hello\\.vscode\\List.ipynb Cell 82'\u001b[0m in \u001b[0;36m<cell line: 1>\u001b[1;34m()\u001b[0m\n\u001b[1;32m----> <a href='vscode-notebook-cell:/c%3A/Users/ankit/Downloads/Hello/Hello/.vscode/List.ipynb#ch0000093?line=0'>1</a>\u001b[0m z\u001b[39m.\u001b[39;49mindex(\u001b[39m101\u001b[39;49m)\n",
      "\u001b[1;31mValueError\u001b[0m: 101 is not in list"
     ]
    }
   ],
   "source": [
    "z.index(101)"
   ]
  },
  {
   "cell_type": "code",
   "execution_count": 164,
   "metadata": {},
   "outputs": [],
   "source": [
    "if 100 in z:\n",
    "    print(z.index(100))"
   ]
  },
  {
   "cell_type": "code",
   "execution_count": 165,
   "metadata": {},
   "outputs": [
    {
     "name": "stdout",
     "output_type": "stream",
     "text": [
      "2\n"
     ]
    }
   ],
   "source": [
    "if 46 in z:\n",
    "    print(z.index(46))"
   ]
  },
  {
   "cell_type": "code",
   "execution_count": 169,
   "metadata": {},
   "outputs": [],
   "source": [
    "x = [1,2,3,4,5,6,7,9]\n",
    "y = x # referance copy\n",
    "z = x.copy() # shallow copy"
   ]
  },
  {
   "cell_type": "code",
   "execution_count": 170,
   "metadata": {},
   "outputs": [],
   "source": [
    "x.append(10)"
   ]
  },
  {
   "cell_type": "code",
   "execution_count": 171,
   "metadata": {},
   "outputs": [],
   "source": [
    "x.remove(1)"
   ]
  },
  {
   "cell_type": "code",
   "execution_count": 172,
   "metadata": {},
   "outputs": [],
   "source": [
    "z.append(11)"
   ]
  },
  {
   "cell_type": "code",
   "execution_count": 173,
   "metadata": {},
   "outputs": [],
   "source": [
    "z.remove(2)"
   ]
  },
  {
   "cell_type": "code",
   "execution_count": null,
   "metadata": {},
   "outputs": [],
   "source": []
  }
 ],
 "metadata": {
  "interpreter": {
   "hash": "e7e9cb53840e76e228697b34d7c9baee2cd9bda0b7dfb8a0c2956ee256e9cd4f"
  },
  "kernelspec": {
   "display_name": "Python 3.9.12 ('base')",
   "language": "python",
   "name": "python3"
  },
  "language_info": {
   "codemirror_mode": {
    "name": "ipython",
    "version": 3
   },
   "file_extension": ".py",
   "mimetype": "text/x-python",
   "name": "python",
   "nbconvert_exporter": "python",
   "pygments_lexer": "ipython3",
   "version": "3.9.12"
  },
  "orig_nbformat": 4
 },
 "nbformat": 4,
 "nbformat_minor": 2
}
