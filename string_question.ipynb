{
 "cells": [
  {
   "cell_type": "markdown",
   "metadata": {},
   "source": [
    "#Question\n",
    "- Remove all the vowels from a string the is provided by the User.👍\n",
    "- count all the vowels in a string the is provided by the User.👍\n",
    "- count all the word occurences in a string the is provided by the User.\n",
    "- Find all the index of a word in a string.👍\n",
    "- Remove every occurence of a word in a string.\n",
    "- Remove all the spaces from a string.👍\n",
    "- Replace all the vovel a=>1 e=>2 i=>3 o=>4 u=>5👍\n"
   ]
  },
  {
   "cell_type": "code",
   "execution_count": 3,
   "metadata": {},
   "outputs": [
    {
     "name": "stdout",
     "output_type": "stream",
     "text": [
      "th s  s  n\n"
     ]
    }
   ],
   "source": [
    "msg = input('enter a massage')\n",
    "for v in 'aeiouAEIOU':\n",
    "    msg = msg.replace(v, '')\n",
    "print(msg)"
   ]
  },
  {
   "cell_type": "code",
   "execution_count": 4,
   "metadata": {},
   "outputs": [
    {
     "name": "stdout",
     "output_type": "stream",
     "text": [
      "ths s n xmpl\n"
     ]
    }
   ],
   "source": [
    "vowles = 'aeiouAEIOU'\n",
    "msg = input('enter a massage')\n",
    "for v in vowles:\n",
    "    msg = msg.replace(v, '')\n",
    "print(msg)"
   ]
  },
  {
   "cell_type": "code",
   "execution_count": 24,
   "metadata": {},
   "outputs": [
    {
     "name": "stdout",
     "output_type": "stream",
     "text": [
      "0\n"
     ]
    }
   ],
   "source": [
    "msg = input('Enter a massage')\n",
    "for v in 'aeiouAEIOU':\n",
    "    c = msg.count('a')\n",
    "print(c)"
   ]
  },
  {
   "cell_type": "code",
   "execution_count": 16,
   "metadata": {},
   "outputs": [
    {
     "name": "stdout",
     "output_type": "stream",
     "text": [
      "thisisanexample\n"
     ]
    }
   ],
   "source": [
    "#6th example\n",
    "vowles = 'aeiouAEIOU'\n",
    "msg = input('enter a massage')\n",
    "for v in vowles:\n",
    "    msg = msg.replace(' ','')\n",
    "print(msg)"
   ]
  },
  {
   "cell_type": "code",
   "execution_count": 27,
   "metadata": {},
   "outputs": [
    {
     "name": "stdout",
     "output_type": "stream",
     "text": [
      "is = 8\n",
      "msg = 4\n",
      "a = 4\n",
      "this = 4\n"
     ]
    }
   ],
   "source": [
    "msg = input('Enter something')\n",
    "words = set(msg.split())\n",
    "for w in words:\n",
    "    c = msg.count(w)\n",
    "    print(w, '=', c)"
   ]
  },
  {
   "cell_type": "code",
   "execution_count": 7,
   "metadata": {},
   "outputs": [
    {
     "name": "stdout",
     "output_type": "stream",
     "text": [
      "a = 3\n",
      "i = 3\n"
     ]
    }
   ],
   "source": [
    "msg = input('Enter something')\n",
    "words = msg.split()\n",
    "for w in 'aeiouAEIOU':\n",
    "    c = msg.count(w)\n",
    "    if c != 0:\n",
    "        print(w, '=', c)"
   ]
  },
  {
   "cell_type": "code",
   "execution_count": 34,
   "metadata": {},
   "outputs": [
    {
     "name": "stdout",
     "output_type": "stream",
     "text": [
      "this found at position 0\n",
      "this found at position 36\n"
     ]
    }
   ],
   "source": [
    "story = '''this is an example of anthor story, this story is not simple and is not very long, but it is a story'''\n",
    "q = input('Enter a term')\n",
    "start = 0\n",
    "while True:\n",
    "    idx = story.find(q,start)\n",
    "    if idx == -1:\n",
    "        break\n",
    "    print(f'{q} found at position {idx}')\n",
    "    start = idx+1"
   ]
  },
  {
   "cell_type": "code",
   "execution_count": 36,
   "metadata": {},
   "outputs": [
    {
     "name": "stdout",
     "output_type": "stream",
     "text": [
      "th3s 3s 1n 2x1mpl2 4f 1nth4r st4ry, th3s st4ry 3s n4t s3mpl2 1nd 3s n4t v2ry l4ng, b5t 3t 3s 1 st4ry\n"
     ]
    }
   ],
   "source": [
    "story = '''this is an example of anthor story, this story is not simple and is not very long, but it is a story'''\n",
    "\n",
    "for v in 'aeiouAEIOU':\n",
    "    if v == 'a' or v == 'A':\n",
    "        story = story.replace(v, '1')\n",
    "    if v == 'e' or v == 'E':\n",
    "        story = story.replace(v, '2')\n",
    "    if v == 'i' or v == 'I':\n",
    "        story = story.replace(v, '3')\n",
    "    if v == 'o' or v == 'O':\n",
    "        story = story.replace(v, '4')\n",
    "    if v == 'u' or v == 'U':\n",
    "        story = story.replace(v, '5')\n",
    "print(story)"
   ]
  },
  {
   "cell_type": "code",
   "execution_count": null,
   "metadata": {},
   "outputs": [],
   "source": []
  }
 ],
 "metadata": {
  "interpreter": {
   "hash": "e7e9cb53840e76e228697b34d7c9baee2cd9bda0b7dfb8a0c2956ee256e9cd4f"
  },
  "kernelspec": {
   "display_name": "Python 3.9.12 ('base')",
   "language": "python",
   "name": "python3"
  },
  "language_info": {
   "codemirror_mode": {
    "name": "ipython",
    "version": 3
   },
   "file_extension": ".py",
   "mimetype": "text/x-python",
   "name": "python",
   "nbconvert_exporter": "python",
   "pygments_lexer": "ipython3",
   "version": "3.9.12"
  },
  "orig_nbformat": 4
 },
 "nbformat": 4,
 "nbformat_minor": 2
}
